{
 "cells": [
  {
   "cell_type": "code",
   "execution_count": 1,
   "metadata": {
    "colab": {
     "base_uri": "https://localhost:8080/",
     "height": 122
    },
    "colab_type": "code",
    "id": "HUagNiZ3QgMI",
    "outputId": "4eb3c298-5fa8-43ad-97c7-ba2106a8ec7b"
   },
   "outputs": [
    {
     "name": "stdout",
     "output_type": "stream",
     "text": [
      "Go to this URL in a browser: https://accounts.google.com/o/oauth2/auth?client_id=947318989803-6bn6qk8qdgf4n4g3pfee6491hc0brc4i.apps.googleusercontent.com&redirect_uri=urn%3Aietf%3Awg%3Aoauth%3A2.0%3Aoob&scope=email%20https%3A%2F%2Fwww.googleapis.com%2Fauth%2Fdocs.test%20https%3A%2F%2Fwww.googleapis.com%2Fauth%2Fdrive%20https%3A%2F%2Fwww.googleapis.com%2Fauth%2Fdrive.photos.readonly%20https%3A%2F%2Fwww.googleapis.com%2Fauth%2Fpeopleapi.readonly&response_type=code\n",
      "\n",
      "Enter your authorization code:\n",
      "··········\n",
      "Mounted at /content/gdrive\n"
     ]
    }
   ],
   "source": [
    "from google.colab import drive\n",
    "drive.mount('/content/gdrive')"
   ]
  },
  {
   "cell_type": "code",
   "execution_count": 0,
   "metadata": {
    "colab": {},
    "colab_type": "code",
    "id": "eRVBOkzMQgMO"
   },
   "outputs": [],
   "source": [
    "import pandas as pd\n",
    "import numpy as np\n",
    "import itertools\n",
    "import numpy as np\n",
    "import matplotlib.pyplot as plt\n",
    "from sklearn.metrics import confusion_matrix\n",
    "import matplotlib.pyplot as plt\n",
    "import seaborn as sns"
   ]
  },
  {
   "cell_type": "code",
   "execution_count": 0,
   "metadata": {
    "colab": {},
    "colab_type": "code",
    "id": "LAy2Oi--QgMR"
   },
   "outputs": [],
   "source": [
    "# Activities are the class labels\n",
    "# It is a 6 class classification\n",
    "ACTIVITIES = {\n",
    "    0: 'WALKING',\n",
    "    1: 'WALKING_UPSTAIRS',\n",
    "    2: 'WALKING_DOWNSTAIRS',\n",
    "    3: 'SITTING',\n",
    "    4: 'STANDING',\n",
    "    5: 'LAYING',\n",
    "}\n",
    "\n",
    "# Utility function to print the confusion matrix\n",
    "def confusion_matrix(Y_true, Y_pred):\n",
    "    Y_true = pd.Series([ACTIVITIES[y] for y in np.argmax(Y_true, axis=1)])\n",
    "    Y_pred = pd.Series([ACTIVITIES[y] for y in np.argmax(Y_pred, axis=1)])\n",
    "\n",
    "    return pd.crosstab(Y_true, Y_pred, rownames=['True'], colnames=['Pred'])\n",
    "\n",
    "\n",
    "\n",
    "def plot_confusion_matrix(cm, classes,\n",
    "                          normalize=False,\n",
    "                          title='Confusion matrix',\n",
    "                          cmap=plt.cm.Blues):\n",
    "    if normalize:\n",
    "        cm = cm.astype('float') / cm.sum(axis=1)[:, np.newaxis]\n",
    "\n",
    "    plt.imshow(cm, interpolation='nearest', cmap=cmap)\n",
    "    plt.title(title)\n",
    "    plt.colorbar()\n",
    "    tick_marks = np.arange(len(classes))\n",
    "    plt.xticks(tick_marks, classes, rotation=90)\n",
    "    plt.yticks(tick_marks, classes)\n",
    "\n",
    "    fmt = '.2f' if normalize else 'd'\n",
    "    thresh = cm.max() / 2.\n",
    "    for i, j in itertools.product(range(cm.shape[0]), range(cm.shape[1])):\n",
    "        plt.text(j, i, format(cm[i, j], fmt),\n",
    "                 horizontalalignment=\"center\",\n",
    "                 color=\"white\" if cm[i, j] > thresh else \"black\")\n",
    "\n",
    "    plt.tight_layout()\n",
    "    plt.ylabel('True label')\n",
    "    plt.xlabel('Predicted label')"
   ]
  },
  {
   "cell_type": "markdown",
   "metadata": {
    "colab_type": "text",
    "id": "aPDjC9mZQgMU"
   },
   "source": [
    "### Data"
   ]
  },
  {
   "cell_type": "code",
   "execution_count": 0,
   "metadata": {
    "colab": {},
    "colab_type": "code",
    "id": "2UQTC5HVQgMV"
   },
   "outputs": [],
   "source": [
    "# Data directory\n",
    "DATADIR = 'gdrive/My Drive/HAR/UCI_HAR_Dataset'"
   ]
  },
  {
   "cell_type": "code",
   "execution_count": 0,
   "metadata": {
    "colab": {},
    "colab_type": "code",
    "id": "5UefDM2GQgMY"
   },
   "outputs": [],
   "source": [
    "# Raw data signals\n",
    "# Signals are from Accelerometer and Gyroscope\n",
    "# The signals are in x,y,z directions\n",
    "# Sensor signals are filtered to have only body acceleration\n",
    "# excluding the acceleration due to gravity\n",
    "# Triaxial acceleration from the accelerometer is total acceleration\n",
    "SIGNALS = [\n",
    "    \"body_acc_x\",\n",
    "    \"body_acc_y\",\n",
    "    \"body_acc_z\",\n",
    "    \"body_gyro_x\",\n",
    "    \"body_gyro_y\",\n",
    "    \"body_gyro_z\",\n",
    "    \"total_acc_x\",\n",
    "    \"total_acc_y\",\n",
    "    \"total_acc_z\"\n",
    "]"
   ]
  },
  {
   "cell_type": "code",
   "execution_count": 0,
   "metadata": {
    "colab": {},
    "colab_type": "code",
    "id": "SwWGaUp6QgMb"
   },
   "outputs": [],
   "source": [
    "# Utility function to read the data from csv file\n",
    "def _read_csv(filename):\n",
    "    return pd.read_csv(filename, delim_whitespace=True, header=None)\n",
    "\n",
    "# Utility function to load the load\n",
    "def load_signals(subset):\n",
    "    signals_data = []\n",
    "\n",
    "    for signal in SIGNALS:\n",
    "        filename = f'gdrive/My Drive/HAR/UCI_HAR_Dataset/{subset}/Inertial Signals/{signal}_{subset}.txt'\n",
    "        signals_data.append(\n",
    "            _read_csv(filename).as_matrix()\n",
    "        ) \n",
    "\n",
    "    # Transpose is used to change the dimensionality of the output,\n",
    "    # aggregating the signals by combination of sample/timestep.\n",
    "    # Resultant shape is (7352 train/2947 test samples, 128 timesteps, 9 signals)\n",
    "    return np.transpose(signals_data, (1, 2, 0))"
   ]
  },
  {
   "cell_type": "code",
   "execution_count": 0,
   "metadata": {
    "colab": {},
    "colab_type": "code",
    "id": "6PZfK0rNQgMd"
   },
   "outputs": [],
   "source": [
    "def load_y(subset):\n",
    "    \"\"\"\n",
    "    The objective that we are trying to predict is a integer, from 1 to 6,\n",
    "    that represents a human activity. We return a binary representation of \n",
    "    every sample objective as a 6 bits vector using One Hot Encoding\n",
    "    (https://pandas.pydata.org/pandas-docs/stable/generated/pandas.get_dummies.html)\n",
    "    \"\"\"\n",
    "    filename = f'gdrive/My Drive/HAR/UCI_HAR_Dataset/{subset}/y_{subset}.txt'\n",
    "    y = _read_csv(filename)[0] \n",
    "\n",
    "    return pd.get_dummies(y).as_matrix()"
   ]
  },
  {
   "cell_type": "code",
   "execution_count": 0,
   "metadata": {
    "colab": {},
    "colab_type": "code",
    "id": "E3OS3n6nQgMh"
   },
   "outputs": [],
   "source": [
    "def load_data():\n",
    "    \"\"\"\n",
    "    Obtain the dataset from multiple files.\n",
    "    Returns: X_train, X_test, y_train, y_test\n",
    "    \"\"\"\n",
    "    X_train, X_test = load_signals('train'), load_signals('test')\n",
    "    y_train, y_test = load_y('train'), load_y('test')\n",
    "\n",
    "    return X_train, X_test, y_train, y_test"
   ]
  },
  {
   "cell_type": "code",
   "execution_count": 0,
   "metadata": {
    "colab": {},
    "colab_type": "code",
    "id": "9dSyfOQmjXHK"
   },
   "outputs": [],
   "source": []
  },
  {
   "cell_type": "code",
   "execution_count": 0,
   "metadata": {
    "colab": {},
    "colab_type": "code",
    "id": "_0QrHNajQgMl"
   },
   "outputs": [],
   "source": [
    "# Importing tensorflow\n",
    "np.random.seed(42)\n",
    "import tensorflow as tf\n",
    "tf.set_random_seed(42)"
   ]
  },
  {
   "cell_type": "code",
   "execution_count": 0,
   "metadata": {
    "colab": {},
    "colab_type": "code",
    "id": "EyKaqGULQgMp"
   },
   "outputs": [],
   "source": [
    "# Configuring a session\n",
    "session_conf = tf.ConfigProto(\n",
    "   intra_op_parallelism_threads=1,inter_op_parallelism_threads=1)"
   ]
  },
  {
   "cell_type": "code",
   "execution_count": 11,
   "metadata": {
    "colab": {
     "base_uri": "https://localhost:8080/",
     "height": 34
    },
    "colab_type": "code",
    "id": "v9RuwAwfQgMt",
    "outputId": "c37534a8-568e-4b80-de98-856414d73e63"
   },
   "outputs": [
    {
     "name": "stderr",
     "output_type": "stream",
     "text": [
      "Using TensorFlow backend.\n"
     ]
    }
   ],
   "source": [
    "#Import Keras\n",
    "from keras import backend as K\n",
    "sess = tf.Session(graph=tf.get_default_graph(), config=session_conf)\n",
    "K.set_session(sess)"
   ]
  },
  {
   "cell_type": "code",
   "execution_count": 0,
   "metadata": {
    "colab": {},
    "colab_type": "code",
    "id": "iSFOkVC3QgMy"
   },
   "outputs": [],
   "source": [
    "# Importing libraries\n",
    "from keras.models import Sequential\n",
    "from keras.layers import LSTM\n",
    "from keras.layers.core import Dense, Dropout\n",
    "from keras.layers.normalization import BatchNormalization"
   ]
  },
  {
   "cell_type": "code",
   "execution_count": 0,
   "metadata": {
    "colab": {},
    "colab_type": "code",
    "id": "B_p7j0BXQgM0"
   },
   "outputs": [],
   "source": [
    "# Initializing parameters\n",
    "base_epochs = 30\n",
    "base_batch_size = 32\n",
    "base_n_hidden = 64"
   ]
  },
  {
   "cell_type": "code",
   "execution_count": 0,
   "metadata": {
    "colab": {},
    "colab_type": "code",
    "id": "lbxCdiObQgM3"
   },
   "outputs": [],
   "source": [
    "# Utility function to count the number of classes\n",
    "def _count_classes(y):\n",
    "    return len(set([tuple(category) for category in y]))"
   ]
  },
  {
   "cell_type": "code",
   "execution_count": 15,
   "metadata": {
    "colab": {
     "base_uri": "https://localhost:8080/",
     "height": 71
    },
    "colab_type": "code",
    "id": "B4p_rDcSQgM6",
    "outputId": "deb6a263-ce3a-48c5-9d34-02c432e7e18c"
   },
   "outputs": [
    {
     "name": "stderr",
     "output_type": "stream",
     "text": [
      "/usr/local/lib/python3.6/dist-packages/ipykernel_launcher.py:11: FutureWarning: Method .as_matrix will be removed in a future version. Use .values instead.\n",
      "  # This is added back by InteractiveShellApp.init_path()\n"
     ]
    }
   ],
   "source": [
    "# Loading the train and test data\n",
    "X_train, X_test, Y_train, Y_test = load_data()"
   ]
  },
  {
   "cell_type": "code",
   "execution_count": 0,
   "metadata": {
    "colab": {},
    "colab_type": "code",
    "id": "wgS4tgpXjl-G"
   },
   "outputs": [],
   "source": []
  },
  {
   "cell_type": "code",
   "execution_count": 16,
   "metadata": {
    "colab": {
     "base_uri": "https://localhost:8080/",
     "height": 68
    },
    "colab_type": "code",
    "id": "E6UQpTYMQgM8",
    "outputId": "2de8dccb-0064-4a58-9188-39f94e81c0dd"
   },
   "outputs": [
    {
     "name": "stdout",
     "output_type": "stream",
     "text": [
      "128\n",
      "9\n",
      "7352\n"
     ]
    }
   ],
   "source": [
    "timesteps = len(X_train[0])\n",
    "input_dim = len(X_train[0][0])\n",
    "n_classes = _count_classes(Y_train)\n",
    "\n",
    "print(timesteps)\n",
    "print(input_dim)\n",
    "print(len(X_train))"
   ]
  },
  {
   "cell_type": "markdown",
   "metadata": {
    "colab_type": "text",
    "id": "gyXNn7UKn9UW"
   },
   "source": [
    "<h3>LSTM_ Base_ Model</h3>"
   ]
  },
  {
   "cell_type": "code",
   "execution_count": 0,
   "metadata": {
    "colab": {
     "base_uri": "https://localhost:8080/",
     "height": 496
    },
    "colab_type": "code",
    "id": "83hYIvQNlH9m",
    "outputId": "2a2bc6e2-398e-45de-dfb1-aa6bf5a15b60"
   },
   "outputs": [
    {
     "name": "stdout",
     "output_type": "stream",
     "text": [
      "WARNING:tensorflow:From /usr/local/lib/python3.6/dist-packages/keras/backend/tensorflow_backend.py:66: The name tf.get_default_graph is deprecated. Please use tf.compat.v1.get_default_graph instead.\n",
      "\n",
      "WARNING:tensorflow:From /usr/local/lib/python3.6/dist-packages/keras/backend/tensorflow_backend.py:541: The name tf.placeholder is deprecated. Please use tf.compat.v1.placeholder instead.\n",
      "\n",
      "WARNING:tensorflow:From /usr/local/lib/python3.6/dist-packages/keras/backend/tensorflow_backend.py:4432: The name tf.random_uniform is deprecated. Please use tf.random.uniform instead.\n",
      "\n",
      "WARNING:tensorflow:From /usr/local/lib/python3.6/dist-packages/keras/backend/tensorflow_backend.py:148: The name tf.placeholder_with_default is deprecated. Please use tf.compat.v1.placeholder_with_default instead.\n",
      "\n",
      "WARNING:tensorflow:From /usr/local/lib/python3.6/dist-packages/keras/backend/tensorflow_backend.py:3733: calling dropout (from tensorflow.python.ops.nn_ops) with keep_prob is deprecated and will be removed in a future version.\n",
      "Instructions for updating:\n",
      "Please use `rate` instead of `keep_prob`. Rate should be set to `rate = 1 - keep_prob`.\n",
      "Model: \"sequential_1\"\n",
      "_________________________________________________________________\n",
      "Layer (type)                 Output Shape              Param #   \n",
      "=================================================================\n",
      "lstm_1 (LSTM)                (None, 64)                18944     \n",
      "_________________________________________________________________\n",
      "batch_normalization_1 (Batch (None, 64)                256       \n",
      "_________________________________________________________________\n",
      "dropout_1 (Dropout)          (None, 64)                0         \n",
      "_________________________________________________________________\n",
      "dense_1 (Dense)              (None, 6)                 390       \n",
      "=================================================================\n",
      "Total params: 19,590\n",
      "Trainable params: 19,462\n",
      "Non-trainable params: 128\n",
      "_________________________________________________________________\n"
     ]
    }
   ],
   "source": [
    "# Initiliazing the sequential model\n",
    "model = Sequential()\n",
    "# Configuring the parameters\n",
    "model.add(LSTM(base_n_hidden, input_shape=(timesteps, input_dim)))\n",
    "#adding a batch normalization layer \n",
    "model.add(BatchNormalization())\n",
    "# Adding a dropout layer\n",
    "model.add(Dropout(0.4))\n",
    "# Adding a dense output layer with sigmoid activation\n",
    "model.add(Dense(n_classes, activation='softmax'))\n",
    "model.summary()"
   ]
  },
  {
   "cell_type": "code",
   "execution_count": 0,
   "metadata": {
    "colab": {
     "base_uri": "https://localhost:8080/",
     "height": 105
    },
    "colab_type": "code",
    "id": "ey_MQ4OxlIC7",
    "outputId": "70d6c98c-1c81-4df2-de29-690936efb9ce"
   },
   "outputs": [
    {
     "name": "stdout",
     "output_type": "stream",
     "text": [
      "WARNING:tensorflow:From /usr/local/lib/python3.6/dist-packages/keras/optimizers.py:793: The name tf.train.Optimizer is deprecated. Please use tf.compat.v1.train.Optimizer instead.\n",
      "\n",
      "WARNING:tensorflow:From /usr/local/lib/python3.6/dist-packages/keras/backend/tensorflow_backend.py:3576: The name tf.log is deprecated. Please use tf.math.log instead.\n",
      "\n"
     ]
    }
   ],
   "source": [
    "# Compiling the model\n",
    "model.compile(loss='categorical_crossentropy',\n",
    "              optimizer='RMSprop',\n",
    "              metrics=['accuracy'])"
   ]
  },
  {
   "cell_type": "code",
   "execution_count": 0,
   "metadata": {
    "colab": {
     "base_uri": "https://localhost:8080/",
     "height": 496
    },
    "colab_type": "code",
    "id": "y-oe-z1elIIq",
    "outputId": "30a6ed4e-7ca3-4da7-c1fb-1c46aca80e1c"
   },
   "outputs": [
    {
     "name": "stdout",
     "output_type": "stream",
     "text": [
      "WARNING:tensorflow:From /usr/local/lib/python3.6/dist-packages/tensorflow/python/ops/math_grad.py:1250: add_dispatch_support.<locals>.wrapper (from tensorflow.python.ops.array_ops) is deprecated and will be removed in a future version.\n",
      "Instructions for updating:\n",
      "Use tf.where in 2.0, which has the same broadcast rule as np.where\n",
      "Train on 7352 samples, validate on 2947 samples\n",
      "Epoch 1/10\n",
      "7352/7352 [==============================] - 66s 9ms/step - loss: 1.0304 - acc: 0.5858 - val_loss: 0.7335 - val_acc: 0.7021\n",
      "Epoch 2/10\n",
      "7352/7352 [==============================] - 63s 9ms/step - loss: 0.5408 - acc: 0.7896 - val_loss: 0.6607 - val_acc: 0.8008\n",
      "Epoch 3/10\n",
      "7352/7352 [==============================] - 61s 8ms/step - loss: 0.3138 - acc: 0.8855 - val_loss: 0.9312 - val_acc: 0.7754\n",
      "Epoch 4/10\n",
      "7352/7352 [==============================] - 59s 8ms/step - loss: 0.2291 - acc: 0.9128 - val_loss: 0.4118 - val_acc: 0.8850\n",
      "Epoch 5/10\n",
      "7352/7352 [==============================] - 58s 8ms/step - loss: 0.1920 - acc: 0.9297 - val_loss: 0.3271 - val_acc: 0.8924\n",
      "Epoch 6/10\n",
      "7352/7352 [==============================] - 59s 8ms/step - loss: 0.1818 - acc: 0.9346 - val_loss: 0.3125 - val_acc: 0.8938\n",
      "Epoch 7/10\n",
      "7352/7352 [==============================] - 59s 8ms/step - loss: 0.1685 - acc: 0.9387 - val_loss: 0.3015 - val_acc: 0.8843\n",
      "Epoch 8/10\n",
      "7352/7352 [==============================] - 59s 8ms/step - loss: 0.1515 - acc: 0.9429 - val_loss: 0.3354 - val_acc: 0.8921\n",
      "Epoch 9/10\n",
      "7352/7352 [==============================] - 59s 8ms/step - loss: 0.1521 - acc: 0.9388 - val_loss: 0.3122 - val_acc: 0.9226\n",
      "Epoch 10/10\n",
      "7352/7352 [==============================] - 58s 8ms/step - loss: 0.1487 - acc: 0.9442 - val_loss: 0.2675 - val_acc: 0.9104\n",
      "CPU times: user 11min 1s, sys: 38.8 s, total: 11min 40s\n",
      "Wall time: 10min 1s\n"
     ]
    },
    {
     "data": {
      "text/plain": [
       "<keras.callbacks.History at 0x7fe6010ddd68>"
      ]
     },
     "execution_count": 19,
     "metadata": {
      "tags": []
     },
     "output_type": "execute_result"
    }
   ],
   "source": [
    "%%time\n",
    "# Training the model\n",
    "model.fit(X_train,\n",
    "          Y_train,\n",
    "          batch_size=32,\n",
    "          validation_data=(X_test, Y_test),\n",
    "          epochs=10)"
   ]
  },
  {
   "cell_type": "code",
   "execution_count": 0,
   "metadata": {
    "colab": {
     "base_uri": "https://localhost:8080/",
     "height": 51
    },
    "colab_type": "code",
    "id": "aGyW7VTXvOx4",
    "outputId": "976df3cb-6747-45a9-e3a2-a243707dff30"
   },
   "outputs": [
    {
     "name": "stdout",
     "output_type": "stream",
     "text": [
      "Test loss: 0.2675111037987024\n",
      "Test accuracy: 91.04173736002714\n"
     ]
    }
   ],
   "source": [
    "score = model.evaluate(X_test, Y_test,verbose=0)\n",
    "\n",
    "print('Test loss:', score[0])\n",
    "print('Test accuracy:', score[1]*100)"
   ]
  },
  {
   "cell_type": "code",
   "execution_count": 0,
   "metadata": {
    "colab": {},
    "colab_type": "code",
    "id": "_da_HtDUvsS5"
   },
   "outputs": [],
   "source": [
    "#train_data\n",
    "X_train=X_train[:6000]\n",
    "Y_train=Y_train[:6000]\n",
    "#cv_data\n",
    "X_cv=X_train[:1352]\n",
    "Y_cv=Y_train[:1352]"
   ]
  },
  {
   "cell_type": "code",
   "execution_count": 0,
   "metadata": {
    "colab": {
     "base_uri": "https://localhost:8080/",
     "height": 68
    },
    "colab_type": "code",
    "id": "16RFIwy4YjZ7",
    "outputId": "a6514391-38ec-48be-e165-88057cdac87e"
   },
   "outputs": [
    {
     "name": "stdout",
     "output_type": "stream",
     "text": [
      "(6000, 128, 9) (6000, 6)\n",
      "(1352, 128, 9) (1352, 6)\n",
      "(2947, 128, 9) (2947, 6)\n"
     ]
    }
   ],
   "source": [
    "print(X_train.shape,Y_train.shape)\n",
    "print(X_cv.shape,Y_cv.shape)\n",
    "print(X_test.shape,Y_test.shape)"
   ]
  },
  {
   "cell_type": "code",
   "execution_count": 0,
   "metadata": {
    "colab": {},
    "colab_type": "code",
    "id": "3t9MPejCmFw1"
   },
   "outputs": [],
   "source": [
    "np.save(\"gdrive/My Drive/HAR/x_train\",X_train)\n",
    "np.save(\"gdrive/My Drive/HAR/y_train\",Y_train)\n",
    "np.save(\"gdrive/My Drive/HAR/x_cv\",X_cv)\n",
    "np.save(\"gdrive/My Drive/HAR/y_cv\",Y_cv)\n",
    "np.save(\"gdrive/My Drive/HAR/x_test\",X_test)\n",
    "np.save(\"gdrive/My Drive/HAR/y_test\",Y_test)"
   ]
  },
  {
   "cell_type": "code",
   "execution_count": 0,
   "metadata": {
    "colab": {},
    "colab_type": "code",
    "id": "zeKa7WRl11oD"
   },
   "outputs": [],
   "source": [
    "X_train=np.load('gdrive/My Drive/HAR/x_train.npy')\n",
    "Y_train=np.load('gdrive/My Drive/HAR/y_train.npy')\n",
    "X_cv=np.load('gdrive/My Drive/HAR/x_cv.npy')\n",
    "Y_cv=np.load('gdrive/My Drive/HAR/y_cv.npy')\n",
    "X_test=np.load('gdrive/My Drive/HAR/x_test.npy')\n",
    "Y_test=np.load('gdrive/My Drive/HAR/y_test.npy')"
   ]
  },
  {
   "cell_type": "code",
   "execution_count": 0,
   "metadata": {
    "colab": {
     "base_uri": "https://localhost:8080/",
     "height": 170
    },
    "colab_type": "code",
    "id": "Ev5Xl3OCnd7R",
    "outputId": "2c18380b-9e76-4968-d91c-3acf24be2b89"
   },
   "outputs": [
    {
     "name": "stdout",
     "output_type": "stream",
     "text": [
      "==============================================================================================================================================================\n",
      "for lstm cells 12 train_loss: 0.5427719736178793 train_acc: 0.7983333333333333 cv_loss: 0.5774555450977659 cv_acc: 0.7943786982248521\n",
      "==============================================================================================================================================================\n",
      "==============================================================================================================================================================\n",
      "for lstm cells 36 train_loss: 0.1419026134143011 train_acc: 0.948 cv_loss: 0.1471664534554336 cv_acc: 0.9312130177514792\n",
      "==============================================================================================================================================================\n",
      "==============================================================================================================================================================\n",
      "for lstm cells 64 train_loss: 0.15687254037896248 train_acc: 0.9456666666666667 cv_loss: 0.1529195671973436 cv_acc: 0.9304733727810651\n",
      "==============================================================================================================================================================\n"
     ]
    }
   ],
   "source": [
    "lstms = [12,36,64]\n",
    "train_lstms_loss = []\n",
    "cv_lstms_loss = []\n",
    "\n",
    "\n",
    "\n",
    "for i in lstms:\n",
    "  model = Sequential()\n",
    "  model.add(LSTM(i, input_shape=(timesteps, input_dim)))\n",
    "  model.add(BatchNormalization())\n",
    "  model.add(Dropout(0.5))\n",
    "  model.add(Dense(n_classes, activation='softmax'))\n",
    "  model.compile(loss='categorical_crossentropy',optimizer='RMSprop',metrics=['accuracy'])\n",
    "  model.fit(X_train,Y_train,batch_size=32,validation_data=(X_cv, Y_cv),epochs=10,verbose=0)\n",
    "  train_score = model.evaluate(X_train, Y_train,verbose=0)\n",
    "  train_lstms_loss.append(train_score)\n",
    "  test_score = model.evaluate(X_cv, Y_cv,verbose=0)\n",
    "  cv_lstms_loss.append(test_score)\n",
    "  print(\"==============================================================================================================================================================\")\n",
    "  print(\"for lstm cells\",i,\"train_loss:\",train_score[0],\"train_acc:\",train_score[1],\"cv_loss:\",test_score[0],\"cv_acc:\",test_score[1])\n",
    "  print(\"==============================================================================================================================================================\")"
   ]
  },
  {
   "cell_type": "code",
   "execution_count": 0,
   "metadata": {
    "colab": {
     "base_uri": "https://localhost:8080/",
     "height": 255
    },
    "colab_type": "code",
    "id": "ZZ7zMGBOpkuc",
    "outputId": "869b61a0-3b16-4f0b-dabd-d59a6d880bc2"
   },
   "outputs": [
    {
     "name": "stdout",
     "output_type": "stream",
     "text": [
      "========================================================================================================================================\n",
      "for dropout 0.2 train_loss: 0.09121699480417676 train_acc: 0.9618333333333333 cv_loss: 0.08054623748949032 cv_acc: 0.9556213017751479\n",
      "========================================================================================================================================\n",
      "========================================================================================================================================\n",
      "for dropout 0.4 train_loss: 0.2927109430801174 train_acc: 0.9185 cv_loss: 0.22138404586332894 cv_acc: 0.9408284023668639\n",
      "========================================================================================================================================\n",
      "WARNING:tensorflow:Large dropout rate: 0.6 (>0.5). In TensorFlow 2.x, dropout() uses dropout rate instead of keep_prob. Please ensure that this is intended.\n",
      "========================================================================================================================================\n",
      "for dropout 0.6 train_loss: 0.2663697602033571 train_acc: 0.9165 cv_loss: 0.2898362064807076 cv_acc: 0.915680473372781\n",
      "========================================================================================================================================\n",
      "WARNING:tensorflow:Large dropout rate: 0.9 (>0.5). In TensorFlow 2.x, dropout() uses dropout rate instead of keep_prob. Please ensure that this is intended.\n",
      "========================================================================================================================================\n",
      "for dropout 0.9 train_loss: 0.4850111870571758 train_acc: 0.8276666666666667 cv_loss: 0.42911438657158224 cv_acc: 0.8461538461538461\n",
      "========================================================================================================================================\n"
     ]
    }
   ],
   "source": [
    "train_dropout_loss = []\n",
    "cv_dropout_loss = []\n",
    "dropouts = [0.2,0.4,0.6,0.9]\n",
    "\n",
    "for i in dropouts:\n",
    "  model = Sequential()\n",
    "  model.add(LSTM(64, input_shape=(timesteps, input_dim)))\n",
    "  model.add(BatchNormalization())\n",
    "  model.add(Dropout(i))\n",
    "  model.add(Dense(n_classes, activation='softmax'))\n",
    "  model.compile(loss='categorical_crossentropy',optimizer='RMSprop',metrics=['accuracy'])\n",
    "  model.fit(X_train,Y_train,batch_size=32,validation_data=(X_cv, Y_cv),epochs=10,verbose=0)\n",
    "  train_score = model.evaluate(X_train, Y_train,verbose=0)\n",
    "  train_dropout_loss.append(train_score[0])\n",
    "  test_score = model.evaluate(X_cv, Y_cv,verbose=0)\n",
    "  cv_dropout_loss.append(test_score[0])\n",
    "  print(\"========================================================================================================================================\")\n",
    "  print(\"for dropout\",i,\"train_loss:\",train_score[0],\"train_acc:\",train_score[1],\"cv_loss:\",test_score[0],\"cv_acc:\",test_score[1])\n",
    "  print(\"========================================================================================================================================\")"
   ]
  },
  {
   "cell_type": "code",
   "execution_count": 0,
   "metadata": {
    "colab": {
     "base_uri": "https://localhost:8080/",
     "height": 170
    },
    "colab_type": "code",
    "id": "A_Gz4cR0-Ycy",
    "outputId": "14290c16-af2d-41c8-d86f-65fecff65a3b"
   },
   "outputs": [
    {
     "name": "stdout",
     "output_type": "stream",
     "text": [
      "========================================================================================================================================\n",
      "for optimizer  RMSprop train_loss: 0.09372042466270614 train_acc: 0.9646666666666667 cv_loss: 0.08798773764093963 cv_acc: 0.9563609467455622\n",
      "========================================================================================================================================\n",
      "========================================================================================================================================\n",
      "for optimizer  Adadelta train_loss: 0.10666192313204859 train_acc: 0.9461666666666667 cv_loss: 0.0923617873280571 cv_acc: 0.9571005917159763\n",
      "========================================================================================================================================\n",
      "========================================================================================================================================\n",
      "for optimizer  Adam train_loss: 0.09250945657089081 train_acc: 0.9641666666666666 cv_loss: 0.08666882475565281 cv_acc: 0.9548816568047337\n",
      "========================================================================================================================================\n"
     ]
    }
   ],
   "source": [
    "train_opt_loss = []\n",
    "cv_opt_loss = []\n",
    "optimizers = ['RMSprop','Adadelta','Adam']\n",
    "\n",
    "for i in optimizers:\n",
    "  model = Sequential()\n",
    "  model.add(LSTM(64, input_shape=(timesteps, input_dim)))\n",
    "  model.add(BatchNormalization())\n",
    "  model.add(Dropout(0.2))\n",
    "  model.add(Dense(n_classes, activation='softmax'))\n",
    "  model.compile(loss='categorical_crossentropy',optimizer=i,metrics=['accuracy'])\n",
    "  model.fit(X_train,Y_train,batch_size=32,validation_data=(X_cv, Y_cv),epochs=10,verbose=0)\n",
    "  train_score = model.evaluate(X_train, Y_train,verbose=0)\n",
    "  train_opt_loss.append(train_score[0])\n",
    "  test_score = model.evaluate(X_cv, Y_cv,verbose=0)\n",
    "  cv_opt_loss.append(test_score[0])\n",
    "  print(\"========================================================================================================================================\")\n",
    "  print(\"for optimizer \",i,\"train_loss:\",train_score[0],\"train_acc:\",train_score[1],\"cv_loss:\",test_score[0],\"cv_acc:\",test_score[1])\n",
    "  print(\"========================================================================================================================================\")"
   ]
  },
  {
   "cell_type": "code",
   "execution_count": 0,
   "metadata": {
    "colab": {
     "base_uri": "https://localhost:8080/",
     "height": 748
    },
    "colab_type": "code",
    "id": "E7dfxAVpiRhb",
    "outputId": "76feb2e1-f263-497d-e144-5668881da267"
   },
   "outputs": [
    {
     "name": "stdout",
     "output_type": "stream",
     "text": [
      "Train on 6000 samples, validate on 2947 samples\n",
      "Epoch 1/20\n",
      "6000/6000 [==============================] - 57s 10ms/step - loss: 0.7780 - acc: 0.6847 - val_loss: 0.9274 - val_acc: 0.7065\n",
      "Epoch 2/20\n",
      "6000/6000 [==============================] - 48s 8ms/step - loss: 0.4287 - acc: 0.8255 - val_loss: 1.0003 - val_acc: 0.6176\n",
      "Epoch 3/20\n",
      "6000/6000 [==============================] - 49s 8ms/step - loss: 0.2508 - acc: 0.9037 - val_loss: 0.4645 - val_acc: 0.8490\n",
      "Epoch 4/20\n",
      "6000/6000 [==============================] - 49s 8ms/step - loss: 0.1943 - acc: 0.9327 - val_loss: 1.4064 - val_acc: 0.7598\n",
      "Epoch 5/20\n",
      "6000/6000 [==============================] - 49s 8ms/step - loss: 0.1708 - acc: 0.9363 - val_loss: 0.2106 - val_acc: 0.9179\n",
      "Epoch 6/20\n",
      "6000/6000 [==============================] - 49s 8ms/step - loss: 0.1470 - acc: 0.9448 - val_loss: 0.2387 - val_acc: 0.9223\n",
      "Epoch 7/20\n",
      "6000/6000 [==============================] - 48s 8ms/step - loss: 0.1351 - acc: 0.9467 - val_loss: 0.3111 - val_acc: 0.9026\n",
      "Epoch 8/20\n",
      "6000/6000 [==============================] - 48s 8ms/step - loss: 0.1339 - acc: 0.9485 - val_loss: 0.3288 - val_acc: 0.9118\n",
      "Epoch 9/20\n",
      "6000/6000 [==============================] - 49s 8ms/step - loss: 0.1201 - acc: 0.9497 - val_loss: 0.3280 - val_acc: 0.9148\n",
      "Epoch 10/20\n",
      "6000/6000 [==============================] - 49s 8ms/step - loss: 0.1259 - acc: 0.9535 - val_loss: 0.3860 - val_acc: 0.9063\n",
      "Epoch 11/20\n",
      "6000/6000 [==============================] - 49s 8ms/step - loss: 0.1137 - acc: 0.9552 - val_loss: 0.4017 - val_acc: 0.9043\n",
      "Epoch 12/20\n",
      "6000/6000 [==============================] - 49s 8ms/step - loss: 0.1108 - acc: 0.9550 - val_loss: 0.3834 - val_acc: 0.9162\n",
      "Epoch 13/20\n",
      "6000/6000 [==============================] - 49s 8ms/step - loss: 0.1060 - acc: 0.9552 - val_loss: 0.3190 - val_acc: 0.9077\n",
      "Epoch 14/20\n",
      "6000/6000 [==============================] - 49s 8ms/step - loss: 0.1076 - acc: 0.9545 - val_loss: 0.3842 - val_acc: 0.9135\n",
      "Epoch 15/20\n",
      "6000/6000 [==============================] - 49s 8ms/step - loss: 0.1084 - acc: 0.9550 - val_loss: 0.4441 - val_acc: 0.9080\n",
      "Epoch 16/20\n",
      "6000/6000 [==============================] - 49s 8ms/step - loss: 0.1154 - acc: 0.9558 - val_loss: 0.4180 - val_acc: 0.9026\n",
      "Epoch 17/20\n",
      "6000/6000 [==============================] - 49s 8ms/step - loss: 0.1126 - acc: 0.9558 - val_loss: 0.4901 - val_acc: 0.8996\n",
      "Epoch 18/20\n",
      "6000/6000 [==============================] - 50s 8ms/step - loss: 0.1067 - acc: 0.9577 - val_loss: 0.4419 - val_acc: 0.9077\n",
      "Epoch 19/20\n",
      "6000/6000 [==============================] - 50s 8ms/step - loss: 0.1005 - acc: 0.9565 - val_loss: 0.7073 - val_acc: 0.8941\n",
      "Epoch 20/20\n",
      "6000/6000 [==============================] - 50s 8ms/step - loss: 0.1034 - acc: 0.9562 - val_loss: 0.3852 - val_acc: 0.9145\n",
      "Test loss: 0.38519705226556006\n",
      "Test accuracy: 91.44893111638956\n"
     ]
    }
   ],
   "source": [
    "model = Sequential()\n",
    "model.add(LSTM(64, input_shape=(timesteps, input_dim)))\n",
    "model.add(BatchNormalization())\n",
    "model.add(Dropout(0.2))\n",
    "model.add(Dense(n_classes, activation='softmax'))\n",
    "model.compile(loss='categorical_crossentropy',optimizer='RMSprop',metrics=['accuracy'])\n",
    "model.fit(X_train,Y_train,batch_size=32,validation_data=(X_test, Y_test),epochs=20,verbose=1)\n",
    "score = model.evaluate(X_test, Y_test,verbose=0)\n",
    "print('Test loss:', score[0])\n",
    "print('Test accuracy:', score[1]*100)"
   ]
  },
  {
   "cell_type": "code",
   "execution_count": 0,
   "metadata": {
    "colab": {
     "base_uri": "https://localhost:8080/",
     "height": 799
    },
    "colab_type": "code",
    "id": "MVldI3Gku_UJ",
    "outputId": "a35b3036-8cfe-4fbc-c4cc-05f989dc58f4"
   },
   "outputs": [
    {
     "name": "stdout",
     "output_type": "stream",
     "text": [
      "Train on 6000 samples, validate on 2947 samples\n",
      "Epoch 1/20\n",
      "6000/6000 [==============================] - 107s 18ms/step - loss: 0.4946 - acc: 0.8167 - val_loss: 1.9998 - val_acc: 0.6179\n",
      "Epoch 2/20\n",
      "6000/6000 [==============================] - 98s 16ms/step - loss: 0.1874 - acc: 0.9323 - val_loss: 0.5322 - val_acc: 0.8768\n",
      "Epoch 3/20\n",
      "6000/6000 [==============================] - 98s 16ms/step - loss: 0.1426 - acc: 0.9450 - val_loss: 0.4220 - val_acc: 0.8938\n",
      "Epoch 4/20\n",
      "6000/6000 [==============================] - 97s 16ms/step - loss: 0.1465 - acc: 0.9477 - val_loss: 0.2921 - val_acc: 0.9189\n",
      "Epoch 5/20\n",
      "6000/6000 [==============================] - 97s 16ms/step - loss: 0.1209 - acc: 0.9503 - val_loss: 0.3555 - val_acc: 0.9006\n",
      "Epoch 6/20\n",
      "6000/6000 [==============================] - 98s 16ms/step - loss: 0.1279 - acc: 0.9492 - val_loss: 0.4008 - val_acc: 0.9006\n",
      "Epoch 7/20\n",
      "6000/6000 [==============================] - 98s 16ms/step - loss: 0.1165 - acc: 0.9545 - val_loss: 0.4223 - val_acc: 0.9135\n",
      "Epoch 8/20\n",
      "6000/6000 [==============================] - 97s 16ms/step - loss: 0.1215 - acc: 0.9515 - val_loss: 0.4944 - val_acc: 0.9121\n",
      "Epoch 9/20\n",
      "6000/6000 [==============================] - 98s 16ms/step - loss: 0.1096 - acc: 0.9523 - val_loss: 0.3731 - val_acc: 0.9152\n",
      "Epoch 10/20\n",
      "6000/6000 [==============================] - 95s 16ms/step - loss: 0.1260 - acc: 0.9508 - val_loss: 0.2140 - val_acc: 0.9325\n",
      "Epoch 11/20\n",
      "6000/6000 [==============================] - 96s 16ms/step - loss: 0.1070 - acc: 0.9530 - val_loss: 0.4739 - val_acc: 0.9097\n",
      "Epoch 12/20\n",
      "6000/6000 [==============================] - 97s 16ms/step - loss: 0.1110 - acc: 0.9533 - val_loss: 0.9212 - val_acc: 0.8378\n",
      "Epoch 13/20\n",
      "6000/6000 [==============================] - 97s 16ms/step - loss: 0.1084 - acc: 0.9577 - val_loss: 0.2648 - val_acc: 0.9063\n",
      "Epoch 14/20\n",
      "6000/6000 [==============================] - 97s 16ms/step - loss: 0.1055 - acc: 0.9533 - val_loss: 0.6211 - val_acc: 0.8714\n",
      "Epoch 15/20\n",
      "6000/6000 [==============================] - 98s 16ms/step - loss: 0.1054 - acc: 0.9553 - val_loss: 0.3850 - val_acc: 0.9002\n",
      "Epoch 16/20\n",
      "6000/6000 [==============================] - 96s 16ms/step - loss: 0.1110 - acc: 0.9538 - val_loss: 0.3388 - val_acc: 0.9196\n",
      "Epoch 17/20\n",
      "6000/6000 [==============================] - 97s 16ms/step - loss: 0.1026 - acc: 0.9537 - val_loss: 0.2729 - val_acc: 0.9084\n",
      "Epoch 18/20\n",
      "6000/6000 [==============================] - 97s 16ms/step - loss: 0.1027 - acc: 0.9552 - val_loss: 0.2615 - val_acc: 0.9203\n",
      "Epoch 19/20\n",
      "6000/6000 [==============================] - 97s 16ms/step - loss: 0.1111 - acc: 0.9508 - val_loss: 0.2883 - val_acc: 0.9080\n",
      "Epoch 20/20\n",
      "6000/6000 [==============================] - 95s 16ms/step - loss: 0.1073 - acc: 0.9550 - val_loss: 0.2172 - val_acc: 0.9369\n",
      "Test loss: 0.21721666411171675\n",
      "Test accuracy: 93.68849677638276\n"
     ]
    }
   ],
   "source": [
    "model = Sequential()\n",
    "model.add(LSTM(64, input_shape=(timesteps, input_dim),return_sequences=True))\n",
    "model.add(BatchNormalization())\n",
    "model.add(Dropout(0.2))\n",
    "model.add(LSTM(128))\n",
    "model.add(BatchNormalization())\n",
    "model.add(Dropout(0.4))\n",
    "model.add(Dense(n_classes, activation='softmax'))\n",
    "model.compile(loss='categorical_crossentropy',optimizer='RMSprop',metrics=['accuracy'])\n",
    "model.fit(X_train,Y_train,batch_size=32,validation_data=(X_test, Y_test),epochs=20,verbose=1)\n",
    "score = model.evaluate(X_test, Y_test,verbose=0)\n",
    "print('Test loss:', score[0])\n",
    "print('Test accuracy:', score[1]*100)"
   ]
  },
  {
   "cell_type": "markdown",
   "metadata": {
    "colab_type": "text",
    "id": "I0W9hzMB1Izu"
   },
   "source": [
    "1.By using LSTM 2 layer architecture we got 93% model accuracy so by refering this paper we use a divide and conquer apporach to get some more accuracy than LSTM models Refer: https://www.ncbi.nlm.nih.gov/pmc/articles/PMC5949027/\n",
    "\n",
    "2.So we splitting the data into 2 models one model contains 3 class labels and another contains another 3 class labels like 'STANDING,SITTING,LYING' consider as one model called static model and 'WALKING UPSTSAIRS,WALKING DOWNSTAIRS,WALKING' as another model called dynamic model \n",
    "\n",
    "3.First we create a binary  model i.e.., we set >3 class labels  as 1 and < 3 class labels as 0 \n",
    "\n",
    "4.second we create a model for > 3 class labels and predict  also called as static model \n",
    "\n",
    "5.Third we create a model for < 3 class labels and predict also called as dynamic model \n",
    "\n",
    "Refer the above paper for to get some more better understading the way of implementation \n"
   ]
  },
  {
   "cell_type": "markdown",
   "metadata": {
    "colab_type": "text",
    "id": "ZDajsXLxZibZ"
   },
   "source": [
    "<h3> Binary model</h3>"
   ]
  },
  {
   "cell_type": "code",
   "execution_count": 17,
   "metadata": {
    "colab": {
     "base_uri": "https://localhost:8080/",
     "height": 71
    },
    "colab_type": "code",
    "id": "vZWg9PDA4yAD",
    "outputId": "fc957b3e-8636-47e1-ffa2-ef129e0c2476"
   },
   "outputs": [
    {
     "name": "stderr",
     "output_type": "stream",
     "text": [
      "/usr/local/lib/python3.6/dist-packages/ipykernel_launcher.py:32: FutureWarning: Method .as_matrix will be removed in a future version. Use .values instead.\n",
      "/usr/local/lib/python3.6/dist-packages/ipykernel_launcher.py:52: FutureWarning: Method .as_matrix will be removed in a future version. Use .values instead.\n"
     ]
    }
   ],
   "source": [
    "#https://github.com/UdiBhaskar/Human-Activity-Recognition--Using-Deep-NN/blob/master/Human%20Activity%20Detection-Without%20Verbose%20.ipynb\n",
    "# Data directory\n",
    "DATADIR = 'gdrive/My Drive/HAR/UCI_HAR_Dataset'\n",
    "\n",
    "# Raw data signals\n",
    "# Signals are from Accelerometer and Gyroscope\n",
    "# The signals are in x,y,z directions\n",
    "# Sensor signals are filtered to have only body acceleration\n",
    "# excluding the acceleration due to gravity\n",
    "# Triaxial acceleration from the accelerometer is total acceleration\n",
    "SIGNALS = [\n",
    "    \"body_acc_x\",\n",
    "    \"body_acc_y\",\n",
    "    \"body_acc_z\",\n",
    "    \"body_gyro_x\",\n",
    "    \"body_gyro_y\",\n",
    "    \"body_gyro_z\",\n",
    "    \"total_acc_x\",\n",
    "    \"total_acc_y\",\n",
    "    \"total_acc_z\"\n",
    "]\n",
    "\n",
    "# Utility function to read the data from csv file\n",
    "def _read_csv(filename):\n",
    "    return pd.read_csv(filename, delim_whitespace=True, header=None)\n",
    "\n",
    "# Utility function to load the load\n",
    "def load_signals(subset):\n",
    "    signals_data = []\n",
    "\n",
    "    for signal in SIGNALS:\n",
    "        filename = f'gdrive/My Drive/HAR/UCI_HAR_Dataset/{subset}/Inertial Signals/{signal}_{subset}.txt'\n",
    "        signals_data.append(\n",
    "            _read_csv(filename).as_matrix()\n",
    "        ) \n",
    "\n",
    "    # Transpose is used to change the dimensionality of the output,\n",
    "    # aggregating the signals by combination of sample/timestep.\n",
    "    # Resultant shape is (7352 train/2947 test samples, 128 timesteps, 9 signals)\n",
    "    return np.transpose(signals_data, (1, 2, 0))\n",
    "\n",
    "def load_y(subset):\n",
    "    \"\"\"\n",
    "    The objective that we are trying to predict is a integer, from 1 to 6,\n",
    "    that represents a human activity. We return a binary representation of \n",
    "    every sample objective as a 6 bits vector using One Hot Encoding\n",
    "    (https://pandas.pydata.org/pandas-docs/stable/generated/pandas.get_dummies.html)\n",
    "    \"\"\"\n",
    "    filename = f'gdrive/My Drive/HAR/UCI_HAR_Dataset/{subset}/y_{subset}.txt'\n",
    "    y = _read_csv(filename)[0]\n",
    "    y[y<=3] = 0 #here we scaling y_class labels 1,2,3 as 0 \n",
    "    y[y>3] = 1 #here we scaling y_class labels 4,5,6 as 1\n",
    "\n",
    "    return pd.get_dummies(y).as_matrix()\n",
    "\n",
    "def load_data():\n",
    "    \"\"\"\n",
    "    Obtain the dataset from multiple files.\n",
    "    Returns: X_train, X_test, y_train, y_test\n",
    "    \"\"\"\n",
    "    X_train, X_test = load_signals('train'), load_signals('test')\n",
    "    y_train, y_test = load_y('train'), load_y('test')\n",
    "\n",
    "    return X_train, X_test, y_train, y_test\n",
    "  \n",
    "# Loading the train and test data\n",
    "X_train_bin, X_test_bin, Y_train_bin, Y_test_bin = load_data()"
   ]
  },
  {
   "cell_type": "code",
   "execution_count": 0,
   "metadata": {
    "colab": {},
    "colab_type": "code",
    "id": "UZGJQYBcdsSr"
   },
   "outputs": [],
   "source": []
  },
  {
   "cell_type": "code",
   "execution_count": 0,
   "metadata": {
    "colab": {},
    "colab_type": "code",
    "id": "4eSTMDCKis2k"
   },
   "outputs": [],
   "source": [
    "from keras.layers.convolutional import Conv1D\n",
    "from keras.layers.convolutional import MaxPooling1D \n",
    "from keras.layers import Dense\n",
    "from keras.layers import Flatten"
   ]
  },
  {
   "cell_type": "code",
   "execution_count": 23,
   "metadata": {
    "colab": {
     "base_uri": "https://localhost:8080/",
     "height": 459
    },
    "colab_type": "code",
    "id": "R-ekq-Mjg_qB",
    "outputId": "876475c1-f6f7-4a97-d536-10c815ab2c39"
   },
   "outputs": [
    {
     "name": "stdout",
     "output_type": "stream",
     "text": [
      "Model: \"sequential_2\"\n",
      "_________________________________________________________________\n",
      "Layer (type)                 Output Shape              Param #   \n",
      "=================================================================\n",
      "conv1d_3 (Conv1D)            (None, 126, 64)           1792      \n",
      "_________________________________________________________________\n",
      "batch_normalization_3 (Batch (None, 126, 64)           256       \n",
      "_________________________________________________________________\n",
      "dropout_3 (Dropout)          (None, 126, 64)           0         \n",
      "_________________________________________________________________\n",
      "conv1d_4 (Conv1D)            (None, 124, 32)           6176      \n",
      "_________________________________________________________________\n",
      "batch_normalization_4 (Batch (None, 124, 32)           128       \n",
      "_________________________________________________________________\n",
      "dropout_4 (Dropout)          (None, 124, 32)           0         \n",
      "_________________________________________________________________\n",
      "max_pooling1d_2 (MaxPooling1 (None, 62, 32)            0         \n",
      "_________________________________________________________________\n",
      "flatten_2 (Flatten)          (None, 1984)              0         \n",
      "_________________________________________________________________\n",
      "dense_2 (Dense)              (None, 2)                 3970      \n",
      "=================================================================\n",
      "Total params: 12,322\n",
      "Trainable params: 12,130\n",
      "Non-trainable params: 192\n",
      "_________________________________________________________________\n"
     ]
    }
   ],
   "source": [
    "binary_model = Sequential()\n",
    "binary_model.add(Conv1D(filters=64, kernel_size=3, activation='relu',kernel_initializer='he_uniform',input_shape=(timesteps, input_dim)))\n",
    "binary_model.add(BatchNormalization()) \n",
    "binary_model.add(Dropout(0.5))\n",
    "binary_model.add(Conv1D(filters=32, kernel_size=3, activation='relu',kernel_initializer='he_uniform'))\n",
    "binary_model.add(BatchNormalization())\n",
    "binary_model.add(Dropout(0.5))\n",
    "binary_model.add(MaxPooling1D(pool_size=2))\n",
    "binary_model.add(Flatten())\n",
    "binary_model.add(Dense(2, activation='softmax'))\n",
    "binary_model.summary()"
   ]
  },
  {
   "cell_type": "code",
   "execution_count": 25,
   "metadata": {
    "colab": {
     "base_uri": "https://localhost:8080/",
     "height": 1000
    },
    "colab_type": "code",
    "id": "CZvkuAvLg_u1",
    "outputId": "3ac70d50-3ce0-466b-d206-0e97d90bfd13"
   },
   "outputs": [
    {
     "name": "stdout",
     "output_type": "stream",
     "text": [
      "Train on 7352 samples, validate on 2947 samples\n",
      "Epoch 1/30\n",
      "7352/7352 [==============================] - 6s 881us/step - loss: 0.0578 - acc: 0.9808 - val_loss: 0.0087 - val_acc: 0.9986\n",
      "Epoch 2/30\n",
      "7352/7352 [==============================] - 3s 357us/step - loss: 0.0079 - acc: 0.9974 - val_loss: 0.0073 - val_acc: 0.9983\n",
      "Epoch 3/30\n",
      "7352/7352 [==============================] - 3s 354us/step - loss: 0.0058 - acc: 0.9984 - val_loss: 0.0106 - val_acc: 0.9956\n",
      "Epoch 4/30\n",
      "7352/7352 [==============================] - 3s 364us/step - loss: 0.0036 - acc: 0.9990 - val_loss: 0.0030 - val_acc: 0.9990\n",
      "Epoch 5/30\n",
      "7352/7352 [==============================] - 3s 348us/step - loss: 0.0043 - acc: 0.9986 - val_loss: 0.0028 - val_acc: 0.9993\n",
      "Epoch 6/30\n",
      "7352/7352 [==============================] - 3s 359us/step - loss: 0.0010 - acc: 0.9996 - val_loss: 0.0041 - val_acc: 0.9993\n",
      "Epoch 7/30\n",
      "7352/7352 [==============================] - 3s 346us/step - loss: 9.2203e-04 - acc: 0.9997 - val_loss: 0.0017 - val_acc: 0.9997\n",
      "Epoch 8/30\n",
      "7352/7352 [==============================] - 3s 356us/step - loss: 0.0042 - acc: 0.9988 - val_loss: 8.5511e-04 - val_acc: 0.9997\n",
      "Epoch 9/30\n",
      "7352/7352 [==============================] - 3s 358us/step - loss: 0.0013 - acc: 0.9997 - val_loss: 6.8389e-04 - val_acc: 0.9997\n",
      "Epoch 10/30\n",
      "7352/7352 [==============================] - 3s 375us/step - loss: 1.3490e-04 - acc: 1.0000 - val_loss: 9.8621e-04 - val_acc: 0.9997\n",
      "Epoch 11/30\n",
      "7352/7352 [==============================] - 3s 392us/step - loss: 0.0030 - acc: 0.9990 - val_loss: 3.6772e-04 - val_acc: 1.0000\n",
      "Epoch 12/30\n",
      "7352/7352 [==============================] - 3s 374us/step - loss: 0.0019 - acc: 0.9995 - val_loss: 9.7679e-04 - val_acc: 0.9997\n",
      "Epoch 13/30\n",
      "7352/7352 [==============================] - 3s 356us/step - loss: 0.0054 - acc: 0.9993 - val_loss: 0.0021 - val_acc: 0.9993\n",
      "Epoch 14/30\n",
      "7352/7352 [==============================] - 3s 350us/step - loss: 4.5302e-04 - acc: 0.9999 - val_loss: 0.0010 - val_acc: 0.9997\n",
      "Epoch 15/30\n",
      "7352/7352 [==============================] - 3s 355us/step - loss: 3.4219e-04 - acc: 0.9997 - val_loss: 0.0020 - val_acc: 0.9997\n",
      "Epoch 16/30\n",
      "7352/7352 [==============================] - 3s 388us/step - loss: 9.7779e-04 - acc: 0.9997 - val_loss: 0.0014 - val_acc: 0.9997\n",
      "Epoch 17/30\n",
      "7352/7352 [==============================] - 3s 352us/step - loss: 8.1858e-04 - acc: 0.9996 - val_loss: 6.5504e-04 - val_acc: 0.9997\n",
      "Epoch 18/30\n",
      "7352/7352 [==============================] - 3s 357us/step - loss: 0.0121 - acc: 0.9978 - val_loss: 0.0086 - val_acc: 0.9986\n",
      "Epoch 19/30\n",
      "7352/7352 [==============================] - 3s 348us/step - loss: 0.0026 - acc: 0.9993 - val_loss: 0.0115 - val_acc: 0.9980\n",
      "Epoch 20/30\n",
      "7352/7352 [==============================] - 3s 370us/step - loss: 2.2864e-04 - acc: 1.0000 - val_loss: 0.0104 - val_acc: 0.9983\n",
      "Epoch 21/30\n",
      "7352/7352 [==============================] - 3s 372us/step - loss: 8.2877e-04 - acc: 0.9995 - val_loss: 0.0092 - val_acc: 0.9983\n",
      "Epoch 22/30\n",
      "7352/7352 [==============================] - 3s 358us/step - loss: 0.0013 - acc: 0.9995 - val_loss: 0.0095 - val_acc: 0.9986\n",
      "Epoch 23/30\n",
      "7352/7352 [==============================] - 3s 352us/step - loss: 7.6134e-04 - acc: 0.9997 - val_loss: 0.0140 - val_acc: 0.9980\n",
      "Epoch 24/30\n",
      "7352/7352 [==============================] - 3s 369us/step - loss: 6.4754e-04 - acc: 0.9997 - val_loss: 0.0075 - val_acc: 0.9986\n",
      "Epoch 25/30\n",
      "7352/7352 [==============================] - 3s 350us/step - loss: 4.1572e-05 - acc: 1.0000 - val_loss: 0.0092 - val_acc: 0.9980\n",
      "Epoch 26/30\n",
      "7352/7352 [==============================] - 3s 377us/step - loss: 4.3807e-05 - acc: 1.0000 - val_loss: 0.0075 - val_acc: 0.9986\n",
      "Epoch 27/30\n",
      "7352/7352 [==============================] - 3s 355us/step - loss: 6.6887e-05 - acc: 1.0000 - val_loss: 0.0074 - val_acc: 0.9986\n",
      "Epoch 28/30\n",
      "7352/7352 [==============================] - 3s 356us/step - loss: 6.9065e-06 - acc: 1.0000 - val_loss: 0.0071 - val_acc: 0.9990\n",
      "Epoch 29/30\n",
      "7352/7352 [==============================] - 3s 353us/step - loss: 0.0018 - acc: 0.9995 - val_loss: 0.0046 - val_acc: 0.9990\n",
      "Epoch 30/30\n",
      "7352/7352 [==============================] - 3s 350us/step - loss: 0.0026 - acc: 0.9995 - val_loss: 0.0015 - val_acc: 0.9997\n"
     ]
    },
    {
     "data": {
      "text/plain": [
       "<keras.callbacks.History at 0x7f7061515588>"
      ]
     },
     "execution_count": 25,
     "metadata": {
      "tags": []
     },
     "output_type": "execute_result"
    }
   ],
   "source": [
    "binary_model.compile(loss='categorical_crossentropy', optimizer='Adam', metrics=['accuracy']) \n",
    "binary_model.fit(X_train_bin,Y_train_bin, epochs=30, batch_size=32,validation_data=(X_test_bin, Y_test_bin), verbose=1) "
   ]
  },
  {
   "cell_type": "code",
   "execution_count": 26,
   "metadata": {
    "colab": {
     "base_uri": "https://localhost:8080/",
     "height": 51
    },
    "colab_type": "code",
    "id": "XQ0fwxneg_zQ",
    "outputId": "19f045cc-a6d3-4fa0-9536-b31ca758f6ab"
   },
   "outputs": [
    {
     "name": "stdout",
     "output_type": "stream",
     "text": [
      "Test loss: 0.001487480033914023\n",
      "Test accuracy: 99.9660671869698\n"
     ]
    }
   ],
   "source": [
    "binary_model_score = binary_model.evaluate(X_test_bin,Y_test_bin,verbose=0)\n",
    "print('Test loss:', binary_model_score[0])\n",
    "print('Test accuracy:', binary_model_score[1]*100)"
   ]
  },
  {
   "cell_type": "code",
   "execution_count": 0,
   "metadata": {
    "colab": {},
    "colab_type": "code",
    "id": "MaCGwgzWyEzw"
   },
   "outputs": [],
   "source": [
    "binary_model.save('gdrive/My Drive/HAR/final_binary_model.m1')"
   ]
  },
  {
   "cell_type": "markdown",
   "metadata": {
    "colab_type": "text",
    "id": "VFCJkbFmsRVJ"
   },
   "source": [
    "<h3> sharpening test data </h3>"
   ]
  },
  {
   "cell_type": "code",
   "execution_count": 0,
   "metadata": {
    "colab": {
     "base_uri": "https://localhost:8080/",
     "height": 54
    },
    "colab_type": "code",
    "id": "ZiDuKb0DsOYP",
    "outputId": "1575f8bb-811d-421d-f2fd-176f47ae2bd7"
   },
   "outputs": [
    {
     "data": {
      "text/plain": [
       "'from scipy import ndimage\\ndef sharpen(x_test, sigma, alpha):\\n    r = x_test.shape[0]\\n    c = x_test.shape[1]\\n    d = x_test.shape[2]\\n    container = np.empty((r, c, d))\\n    i = 0\\n\\n    for row in x_test:\\n        test = np.array([row])\\n        blurred = ndimage.gaussian_filter(test, sigma)\\n        sharpened = test + alpha * (test - blurred)\\n        container[i] = sharpened\\n        i = i + 1\\n    return container'"
      ]
     },
     "execution_count": 80,
     "metadata": {
      "tags": []
     },
     "output_type": "execute_result"
    }
   ],
   "source": [
    "'''from scipy import ndimage\n",
    "def sharpen(x_test, sigma, alpha):\n",
    "    r = x_test.shape[0]\n",
    "    c = x_test.shape[1]\n",
    "    d = x_test.shape[2]\n",
    "    container = np.empty((r, c, d))\n",
    "    i = 0\n",
    "\n",
    "    for row in x_test:\n",
    "        test = np.array([row])\n",
    "        blurred = ndimage.gaussian_filter(test, sigma)\n",
    "        sharpened = test + alpha * (test - blurred)\n",
    "        container[i] = sharpened\n",
    "        i = i + 1\n",
    "    return container'''"
   ]
  },
  {
   "cell_type": "markdown",
   "metadata": {
    "colab_type": "text",
    "id": "yD8wkOYdX2kx"
   },
   "source": [
    "<h3>Static_Model</h3>"
   ]
  },
  {
   "cell_type": "code",
   "execution_count": 87,
   "metadata": {
    "colab": {
     "base_uri": "https://localhost:8080/",
     "height": 71
    },
    "colab_type": "code",
    "id": "6HaDRlJkg_2f",
    "outputId": "257ac243-39f2-465c-ba18-905ae7bc0576"
   },
   "outputs": [
    {
     "name": "stderr",
     "output_type": "stream",
     "text": [
      "/usr/local/lib/python3.6/dist-packages/ipykernel_launcher.py:32: FutureWarning: Method .as_matrix will be removed in a future version. Use .values instead.\n",
      "/usr/local/lib/python3.6/dist-packages/ipykernel_launcher.py:51: FutureWarning: Method .as_matrix will be removed in a future version. Use .values instead.\n"
     ]
    }
   ],
   "source": [
    "# Data directory\n",
    "DATADIR = 'gdrive/My Drive/HAR/UCI_HAR_Dataset'\n",
    "\n",
    "# Raw data signals\n",
    "# Signals are from Accelerometer and Gyroscope\n",
    "# The signals are in x,y,z directions\n",
    "# Sensor signals are filtered to have only body acceleration\n",
    "# excluding the acceleration due to gravity\n",
    "# Triaxial acceleration from the accelerometer is total acceleration\n",
    "SIGNALS = [\n",
    "    \"body_acc_x\",\n",
    "    \"body_acc_y\",\n",
    "    \"body_acc_z\",\n",
    "    \"body_gyro_x\",\n",
    "    \"body_gyro_y\",\n",
    "    \"body_gyro_z\",\n",
    "    \"total_acc_x\",\n",
    "    \"total_acc_y\",\n",
    "    \"total_acc_z\"\n",
    "]\n",
    "\n",
    "# Utility function to read the data from csv file\n",
    "def _read_csv(filename):\n",
    "    return pd.read_csv(filename, delim_whitespace=True, header=None)\n",
    "\n",
    "# Utility function to load the load\n",
    "def load_signals(subset):\n",
    "    signals_data = []\n",
    "\n",
    "    for signal in SIGNALS:\n",
    "        filename = f'gdrive/My Drive/HAR/UCI_HAR_Dataset/{subset}/Inertial Signals/{signal}_{subset}.txt'\n",
    "        signals_data.append(\n",
    "            _read_csv(filename).as_matrix()\n",
    "        ) \n",
    "\n",
    "    # Transpose is used to change the dimensionality of the output,\n",
    "    # aggregating the signals by combination of sample/timestep.\n",
    "    # Resultant shape is (7352 train/2947 test samples, 128 timesteps, 9 signals)\n",
    "    return np.transpose(signals_data, (1, 2, 0))\n",
    "\n",
    "def load_y(subset):\n",
    "    \"\"\"\n",
    "    The objective that we are trying to predict is a integer, from 1 to 6,\n",
    "    that represents a human activity. We return a binary representation of \n",
    "    every sample objective as a 6 bits vector using One Hot Encoding\n",
    "    (https://pandas.pydata.org/pandas-docs/stable/generated/pandas.get_dummies.html)\n",
    "    \"\"\"\n",
    "    filename = f'gdrive/My Drive/HAR/UCI_HAR_Dataset/{subset}/y_{subset}.txt'\n",
    "    y = _read_csv(filename)[0]\n",
    "    y_subset = y > 3 #taking y_class labels greater than 3 \n",
    "    y = y[y_subset]\n",
    "    return pd.get_dummies(y).as_matrix(),y_subset\n",
    "\n",
    "def load_static_data():\n",
    "    \"\"\"\n",
    "    Obtain the dataset from multiple files.\n",
    "    Returns: X_train, X_test, y_train, y_test\n",
    "    \"\"\"\n",
    "    X_train, X_test = load_signals('train'), load_signals('test')\n",
    "    y_train, y_train_sub  = load_y('train') \n",
    "    y_test,y_test_sub = load_y('test')\n",
    "    X_train = X_train[y_train_sub]\n",
    "    X_test = X_test[y_test_sub]\n",
    "\n",
    "    return X_train, X_test, y_train, y_test\n",
    "  \n",
    "# Loading the train and test data\n",
    "X_train_static, X_test_static, Y_train_static, Y_test_static = load_static_data()"
   ]
  },
  {
   "cell_type": "code",
   "execution_count": 88,
   "metadata": {
    "colab": {
     "base_uri": "https://localhost:8080/",
     "height": 51
    },
    "colab_type": "code",
    "id": "CLFFmTYwJI6Y",
    "outputId": "dcf48642-af18-4406-e90f-3d49f63c9774"
   },
   "outputs": [
    {
     "name": "stdout",
     "output_type": "stream",
     "text": [
      "X:shape (4067, 128, 9) Y:shape (4067, 3)\n",
      "X:shape (1560, 128, 9) Y:shape (1560, 3)\n"
     ]
    }
   ],
   "source": [
    "print('X:shape',X_train_static.shape,'Y:shape',Y_train_static.shape)\n",
    "#print('X:shape',X_cv_static.shape,'Y:shape',Y_cv_static.shape)\n",
    "print('X:shape',X_test_static.shape,'Y:shape',Y_test_static.shape) "
   ]
  },
  {
   "cell_type": "code",
   "execution_count": 0,
   "metadata": {
    "colab": {},
    "colab_type": "code",
    "id": "92bHdS8E6fke"
   },
   "outputs": [],
   "source": [
    "import numpy\n",
    "from sklearn.model_selection import RandomizedSearchCV\n",
    "from sklearn.model_selection import GridSearchCV\n",
    "from keras.models import Sequential\n",
    "from keras.layers import Dense\n",
    "from keras.layers import Dropout\n",
    "import keras\n",
    "import keras.utils\n",
    "from keras import utils as np_utils\n",
    "from keras.wrappers.scikit_learn import KerasClassifier"
   ]
  },
  {
   "cell_type": "code",
   "execution_count": 0,
   "metadata": {
    "colab": {
     "base_uri": "https://localhost:8080/",
     "height": 72
    },
    "colab_type": "code",
    "id": "lFSj9UN-kB6H",
    "outputId": "394fab2a-f106-4b1a-f750-6980913fb3f9"
   },
   "outputs": [
    {
     "name": "stdout",
     "output_type": "stream",
     "text": [
      "Best: 0.889599 using {'kernel_size2': 1, 'kernel_size': 7, 'filters2': 26, 'filters': 32, 'dropout_rate2': 0.9, 'dropout_rate': 0.2}\n",
      "CPU times: user 55min, sys: 2min 12s, total: 57min 12s\n",
      "Wall time: 48min 57s\n"
     ]
    }
   ],
   "source": [
    "%%time\n",
    "def create_model(filters=1,filters2=1,kernel_size2=1,kernel_size=1,dropout_rate2=0.0,dropout_rate=0.0):\n",
    "  model = Sequential()\n",
    "  model.add(keras.layers.Conv1D(filters=filters, kernel_size=kernel_size,kernel_regularizer=keras.regularizers.l2(0.55), \n",
    "                                activation='relu',kernel_initializer='he_uniform',input_shape=(timesteps, input_dim)))\n",
    "  model.add(BatchNormalization())\n",
    "  model.add(Dropout(dropout_rate))\n",
    "  model.add(keras.layers.Conv1D(filters=filters2, kernel_size=kernel_size2,kernel_regularizer=keras.regularizers.l2(0.28),\n",
    "                                activation='relu',kernel_initializer='he_uniform'))\n",
    "  model.add(BatchNormalization())\n",
    "  model.add(Dropout(dropout_rate2))\n",
    "  model.add(MaxPooling1D(pool_size=2))\n",
    "  model.add(Flatten())\n",
    "  model.add(Dense(3, activation='softmax'))\n",
    "  model.compile(loss='categorical_crossentropy', optimizer='Adam', metrics=['accuracy']) \n",
    "  return model\n",
    "seed = 7\n",
    "numpy.random.seed(seed)\n",
    "\n",
    "model = KerasClassifier(build_fn=create_model, epochs=30, batch_size=16, verbose=0)\n",
    "# define the grid search parameters \n",
    "filters = [1,32,64]\n",
    "filters2 = [1,26,36]\n",
    "kernel_size = [1,3,5,7]\n",
    "kernel_size2 = [1,2,6,8]\n",
    "dropout_rate = [0.0,0.2,0.4,0.6,0.8]\n",
    "dropout_rate2 = [0.0,0.1,0.3,0.5,0.9]\n",
    "param = dict(filters=filters,kernel_size=kernel_size,dropout_rate=dropout_rate,filters2=filters2,\n",
    "             dropout_rate2=dropout_rate2,kernel_size2=kernel_size2)\n",
    "rand = RandomizedSearchCV(estimator=model,param_distributions=param,cv=3)\n",
    "rand_result = rand.fit(X_train_static, Y_train_static)\n",
    "# summarize results\n",
    "print(\"Best: %f using %s\" % (rand_result.best_score_, rand_result.best_params_)) "
   ]
  },
  {
   "cell_type": "code",
   "execution_count": 92,
   "metadata": {
    "colab": {
     "base_uri": "https://localhost:8080/",
     "height": 1000
    },
    "colab_type": "code",
    "id": "6Z25m1wFg_6t",
    "outputId": "14d4d3ed-c789-45e0-e13f-1ce793360b0e",
    "scrolled": false
   },
   "outputs": [
    {
     "name": "stdout",
     "output_type": "stream",
     "text": [
      "Train on 4067 samples, validate on 1560 samples\n",
      "Epoch 1/59\n",
      "4067/4067 [==============================] - 6s 1ms/step - loss: 0.2940 - acc: 0.8788 - val_loss: 0.2683 - val_acc: 0.8910\n",
      "Epoch 2/59\n",
      "4067/4067 [==============================] - 2s 415us/step - loss: 0.2222 - acc: 0.9112 - val_loss: 0.3736 - val_acc: 0.8756\n",
      "Epoch 3/59\n",
      "4067/4067 [==============================] - 2s 404us/step - loss: 0.2306 - acc: 0.9046 - val_loss: 0.3486 - val_acc: 0.8545\n",
      "Epoch 4/59\n",
      "4067/4067 [==============================] - 2s 404us/step - loss: 0.2051 - acc: 0.9115 - val_loss: 0.3071 - val_acc: 0.8750\n",
      "Epoch 5/59\n",
      "4067/4067 [==============================] - 2s 422us/step - loss: 0.2001 - acc: 0.9134 - val_loss: 0.2938 - val_acc: 0.8929\n",
      "Epoch 6/59\n",
      "4067/4067 [==============================] - 2s 396us/step - loss: 0.1903 - acc: 0.9211 - val_loss: 0.2835 - val_acc: 0.9038\n",
      "Epoch 7/59\n",
      "4067/4067 [==============================] - 2s 401us/step - loss: 0.2079 - acc: 0.9122 - val_loss: 0.3417 - val_acc: 0.8776\n",
      "Epoch 8/59\n",
      "4067/4067 [==============================] - 2s 403us/step - loss: 0.1784 - acc: 0.9230 - val_loss: 0.2629 - val_acc: 0.9038\n",
      "Epoch 9/59\n",
      "4067/4067 [==============================] - 2s 399us/step - loss: 0.1901 - acc: 0.9191 - val_loss: 0.2487 - val_acc: 0.9122\n",
      "Epoch 10/59\n",
      "4067/4067 [==============================] - 2s 400us/step - loss: 0.1725 - acc: 0.9235 - val_loss: 0.2527 - val_acc: 0.9135\n",
      "Epoch 11/59\n",
      "4067/4067 [==============================] - 2s 422us/step - loss: 0.1767 - acc: 0.9213 - val_loss: 0.2374 - val_acc: 0.9006\n",
      "Epoch 12/59\n",
      "4067/4067 [==============================] - 2s 428us/step - loss: 0.1789 - acc: 0.9203 - val_loss: 0.3060 - val_acc: 0.8808\n",
      "Epoch 13/59\n",
      "4067/4067 [==============================] - 2s 442us/step - loss: 0.1597 - acc: 0.9277 - val_loss: 0.2390 - val_acc: 0.9147\n",
      "Epoch 14/59\n",
      "4067/4067 [==============================] - 2s 424us/step - loss: 0.1491 - acc: 0.9363 - val_loss: 0.3087 - val_acc: 0.9103\n",
      "Epoch 15/59\n",
      "4067/4067 [==============================] - 2s 418us/step - loss: 0.1483 - acc: 0.9361 - val_loss: 0.4047 - val_acc: 0.8910\n",
      "Epoch 16/59\n",
      "4067/4067 [==============================] - 2s 429us/step - loss: 0.1495 - acc: 0.9363 - val_loss: 0.2725 - val_acc: 0.9179\n",
      "Epoch 17/59\n",
      "4067/4067 [==============================] - 2s 412us/step - loss: 0.1294 - acc: 0.9439 - val_loss: 0.2909 - val_acc: 0.9077\n",
      "Epoch 18/59\n",
      "4067/4067 [==============================] - 2s 417us/step - loss: 0.1539 - acc: 0.9378 - val_loss: 0.2716 - val_acc: 0.9109\n",
      "Epoch 19/59\n",
      "4067/4067 [==============================] - 2s 424us/step - loss: 0.1431 - acc: 0.9373 - val_loss: 0.3384 - val_acc: 0.9173\n",
      "Epoch 20/59\n",
      "4067/4067 [==============================] - 2s 447us/step - loss: 0.1407 - acc: 0.9390 - val_loss: 0.3228 - val_acc: 0.9160\n",
      "Epoch 21/59\n",
      "4067/4067 [==============================] - 2s 436us/step - loss: 0.1416 - acc: 0.9329 - val_loss: 0.3610 - val_acc: 0.8923\n",
      "Epoch 22/59\n",
      "4067/4067 [==============================] - 2s 457us/step - loss: 0.1274 - acc: 0.9489 - val_loss: 0.3253 - val_acc: 0.9192\n",
      "Epoch 23/59\n",
      "4067/4067 [==============================] - 2s 447us/step - loss: 0.1183 - acc: 0.9501 - val_loss: 0.2975 - val_acc: 0.9135\n",
      "Epoch 24/59\n",
      "4067/4067 [==============================] - 2s 434us/step - loss: 0.1357 - acc: 0.9432 - val_loss: 0.2616 - val_acc: 0.9218\n",
      "Epoch 25/59\n",
      "4067/4067 [==============================] - 2s 419us/step - loss: 0.1325 - acc: 0.9471 - val_loss: 0.3600 - val_acc: 0.9026\n",
      "Epoch 26/59\n",
      "4067/4067 [==============================] - 2s 427us/step - loss: 0.1318 - acc: 0.9457 - val_loss: 0.3595 - val_acc: 0.8955\n",
      "Epoch 27/59\n",
      "4067/4067 [==============================] - 2s 436us/step - loss: 0.1570 - acc: 0.9368 - val_loss: 0.3598 - val_acc: 0.8923\n",
      "Epoch 28/59\n",
      "4067/4067 [==============================] - 2s 422us/step - loss: 0.1253 - acc: 0.9484 - val_loss: 0.3379 - val_acc: 0.9006\n",
      "Epoch 29/59\n",
      "4067/4067 [==============================] - 2s 412us/step - loss: 0.1274 - acc: 0.9457 - val_loss: 0.3340 - val_acc: 0.9147\n",
      "Epoch 30/59\n",
      "4067/4067 [==============================] - 2s 420us/step - loss: 0.1058 - acc: 0.9555 - val_loss: 0.3280 - val_acc: 0.9212\n",
      "Epoch 31/59\n",
      "4067/4067 [==============================] - 2s 415us/step - loss: 0.1356 - acc: 0.9479 - val_loss: 0.2701 - val_acc: 0.9263\n",
      "Epoch 32/59\n",
      "4067/4067 [==============================] - 2s 417us/step - loss: 0.1217 - acc: 0.9511 - val_loss: 0.4524 - val_acc: 0.8897\n",
      "Epoch 33/59\n",
      "4067/4067 [==============================] - 2s 440us/step - loss: 0.1173 - acc: 0.9501 - val_loss: 0.3675 - val_acc: 0.8904\n",
      "Epoch 34/59\n",
      "4067/4067 [==============================] - 2s 420us/step - loss: 0.1057 - acc: 0.9575 - val_loss: 0.4708 - val_acc: 0.8718\n",
      "Epoch 35/59\n",
      "4067/4067 [==============================] - 2s 411us/step - loss: 0.1195 - acc: 0.9464 - val_loss: 0.4662 - val_acc: 0.8853\n",
      "Epoch 36/59\n",
      "4067/4067 [==============================] - 2s 431us/step - loss: 0.1507 - acc: 0.9361 - val_loss: 0.5384 - val_acc: 0.8923\n",
      "Epoch 37/59\n",
      "4067/4067 [==============================] - 2s 403us/step - loss: 0.1281 - acc: 0.9484 - val_loss: 0.5009 - val_acc: 0.8981\n",
      "Epoch 38/59\n",
      "4067/4067 [==============================] - 2s 402us/step - loss: 0.1100 - acc: 0.9552 - val_loss: 0.5386 - val_acc: 0.9019\n",
      "Epoch 39/59\n",
      "4067/4067 [==============================] - 2s 392us/step - loss: 0.1115 - acc: 0.9523 - val_loss: 0.4056 - val_acc: 0.9128\n",
      "Epoch 40/59\n",
      "4067/4067 [==============================] - 2s 402us/step - loss: 0.0984 - acc: 0.9589 - val_loss: 0.5095 - val_acc: 0.9026\n",
      "Epoch 41/59\n",
      "4067/4067 [==============================] - 2s 415us/step - loss: 0.1013 - acc: 0.9567 - val_loss: 0.2972 - val_acc: 0.9006\n",
      "Epoch 42/59\n",
      "4067/4067 [==============================] - 2s 412us/step - loss: 0.1159 - acc: 0.9498 - val_loss: 0.5124 - val_acc: 0.9026\n",
      "Epoch 43/59\n",
      "4067/4067 [==============================] - 2s 416us/step - loss: 0.1022 - acc: 0.9557 - val_loss: 0.5227 - val_acc: 0.9026\n",
      "Epoch 44/59\n",
      "4067/4067 [==============================] - 2s 399us/step - loss: 0.0983 - acc: 0.9597 - val_loss: 0.4954 - val_acc: 0.8987\n",
      "Epoch 45/59\n",
      "4067/4067 [==============================] - 2s 426us/step - loss: 0.1254 - acc: 0.9479 - val_loss: 0.2917 - val_acc: 0.9199\n",
      "Epoch 46/59\n",
      "4067/4067 [==============================] - 2s 407us/step - loss: 0.1186 - acc: 0.9525 - val_loss: 0.2711 - val_acc: 0.9199\n",
      "Epoch 47/59\n",
      "4067/4067 [==============================] - 2s 394us/step - loss: 0.0978 - acc: 0.9604 - val_loss: 0.3164 - val_acc: 0.9269\n",
      "Epoch 48/59\n",
      "4067/4067 [==============================] - 2s 396us/step - loss: 0.0956 - acc: 0.9594 - val_loss: 0.3670 - val_acc: 0.9186\n",
      "Epoch 49/59\n",
      "4067/4067 [==============================] - 2s 428us/step - loss: 0.0930 - acc: 0.9614 - val_loss: 0.3123 - val_acc: 0.9224\n",
      "Epoch 50/59\n",
      "4067/4067 [==============================] - 2s 410us/step - loss: 0.1012 - acc: 0.9582 - val_loss: 0.2761 - val_acc: 0.9179\n",
      "Epoch 51/59\n",
      "4067/4067 [==============================] - 2s 406us/step - loss: 0.1213 - acc: 0.9496 - val_loss: 0.4582 - val_acc: 0.8821\n",
      "Epoch 52/59\n",
      "4067/4067 [==============================] - 2s 425us/step - loss: 0.0881 - acc: 0.9658 - val_loss: 0.3291 - val_acc: 0.9141\n",
      "Epoch 53/59\n",
      "4067/4067 [==============================] - 2s 415us/step - loss: 0.1036 - acc: 0.9533 - val_loss: 0.3199 - val_acc: 0.9167\n",
      "Epoch 54/59\n",
      "4067/4067 [==============================] - 2s 419us/step - loss: 0.0873 - acc: 0.9639 - val_loss: 0.2934 - val_acc: 0.9154\n",
      "Epoch 55/59\n",
      "4067/4067 [==============================] - 2s 410us/step - loss: 0.0863 - acc: 0.9636 - val_loss: 0.3316 - val_acc: 0.9154\n",
      "Epoch 56/59\n",
      "4067/4067 [==============================] - 2s 400us/step - loss: 0.0863 - acc: 0.9597 - val_loss: 0.4001 - val_acc: 0.9179\n",
      "Epoch 57/59\n",
      "4067/4067 [==============================] - 2s 411us/step - loss: 0.0892 - acc: 0.9648 - val_loss: 0.3249 - val_acc: 0.9231\n",
      "Epoch 58/59\n",
      "4067/4067 [==============================] - 2s 410us/step - loss: 0.0854 - acc: 0.9651 - val_loss: 0.4786 - val_acc: 0.9058\n",
      "Epoch 59/59\n",
      "4067/4067 [==============================] - 2s 399us/step - loss: 0.1172 - acc: 0.9557 - val_loss: 0.2501 - val_acc: 0.9269\n"
     ]
    },
    {
     "data": {
      "text/plain": [
       "<keras.callbacks.History at 0x7f7054309b70>"
      ]
     },
     "execution_count": 92,
     "metadata": {
      "tags": []
     },
     "output_type": "execute_result"
    }
   ],
   "source": [
    "static_model = Sequential()\n",
    "static_model.add(Conv1D(filters=32, kernel_size=7, activation='relu',kernel_initializer='he_uniform',input_shape=(timesteps, input_dim)))\n",
    "static_model.add(BatchNormalization()) \n",
    "static_model.add(Dropout(0.0))\n",
    "static_model.add(Conv1D(filters=32, kernel_size=1, activation='relu',kernel_initializer='he_uniform'))\n",
    "static_model.add(BatchNormalization())\n",
    "static_model.add(Dropout(0.2))\n",
    "static_model.add(Conv1D(filters=32, kernel_size=7, activation='relu',kernel_initializer='he_uniform'))\n",
    "static_model.add(MaxPooling1D(pool_size=2))\n",
    "static_model.add(Flatten())\n",
    "static_model.add(Dense(32,activation='relu'))\n",
    "static_model.add(Dense(3, activation='softmax'))\n",
    "static_model.compile(loss='categorical_crossentropy', optimizer='Adam', metrics=['accuracy']) \n",
    "static_model.fit(X_train_static,Y_train_static, epochs=59, batch_size=32,\n",
    "                 validation_data=(X_test_static, Y_test_static), verbose=1) "
   ]
  },
  {
   "cell_type": "code",
   "execution_count": 93,
   "metadata": {
    "colab": {
     "base_uri": "https://localhost:8080/",
     "height": 51
    },
    "colab_type": "code",
    "id": "ztuderamtGG4",
    "outputId": "160e7ad3-c9aa-4d37-bbf7-32e10932c948"
   },
   "outputs": [
    {
     "name": "stdout",
     "output_type": "stream",
     "text": [
      "Test loss: 0.25014383807258894\n",
      "Test accuracy: 92.6923076923077\n"
     ]
    }
   ],
   "source": [
    "static_model_score = static_model.evaluate(X_test_static,Y_test_static,verbose=0)\n",
    "print('Test loss:', static_model_score[0])\n",
    "print('Test accuracy:', static_model_score[1]*100)"
   ]
  },
  {
   "cell_type": "code",
   "execution_count": 94,
   "metadata": {
    "colab": {
     "base_uri": "https://localhost:8080/",
     "height": 571
    },
    "colab_type": "code",
    "id": "ESbYZ5sYh6KD",
    "outputId": "091f3c7b-bd8f-4299-d48e-0583996568ef"
   },
   "outputs": [
    {
     "data": {
      "image/png": "[encoded data removed]",
      "text/plain": [
       "<Figure size 576x576 with 2 Axes>"
      ]
     },
     "metadata": {
      "tags": []
     },
     "output_type": "display_data"
    }
   ],
   "source": [
    "from sklearn.metrics import confusion_matrix\n",
    "predict_static = dynamic_model.predict(X_test_static)\n",
    "f_predict_static = np.argmax(predict_static,axis=1)\n",
    "cm = confusion_matrix(np.argmax(Y_test_static,axis=1), f_predict_static)\n",
    "plt.figure(figsize=(8,8))\n",
    "labels=['SITTING','STANDING','LAYING']\n",
    "plot_confusion_matrix(cm, classes=labels, \n",
    "                      normalize=True, title='Static Model confusion matrix', cmap = plt.cm.Greens)\n",
    "plt.show()"
   ]
  },
  {
   "cell_type": "markdown",
   "metadata": {
    "colab_type": "text",
    "id": "s9Z3rdD8wkRw"
   },
   "source": [
    "Based on above confusion matrix results the class sitting and standing labels more confuse to predict  "
   ]
  },
  {
   "cell_type": "code",
   "execution_count": 0,
   "metadata": {
    "colab": {},
    "colab_type": "code",
    "id": "TE0gy4xn6D4U"
   },
   "outputs": [],
   "source": [
    "static_model.save('gdrive/My Drive/HAR/final_static_model.m2')"
   ]
  },
  {
   "cell_type": "markdown",
   "metadata": {
    "colab_type": "text",
    "id": "FCAMjBSTYhs1"
   },
   "source": [
    "<h3>Dynamic model</h3>"
   ]
  },
  {
   "cell_type": "code",
   "execution_count": 35,
   "metadata": {
    "colab": {
     "base_uri": "https://localhost:8080/",
     "height": 71
    },
    "colab_type": "code",
    "id": "Y_Fzg5zX45tE",
    "outputId": "0afb0aeb-f844-47d6-e688-2b340cfc271b"
   },
   "outputs": [
    {
     "name": "stderr",
     "output_type": "stream",
     "text": [
      "/usr/local/lib/python3.6/dist-packages/ipykernel_launcher.py:32: FutureWarning: Method .as_matrix will be removed in a future version. Use .values instead.\n",
      "/usr/local/lib/python3.6/dist-packages/ipykernel_launcher.py:51: FutureWarning: Method .as_matrix will be removed in a future version. Use .values instead.\n"
     ]
    }
   ],
   "source": [
    "# Data directory\n",
    "DATADIR = 'gdrive/My Drive/HAR/UCI_HAR_Dataset'\n",
    "\n",
    "# Raw data signals\n",
    "# Signals are from Accelerometer and Gyroscope\n",
    "# The signals are in x,y,z directions\n",
    "# Sensor signals are filtered to have only body acceleration\n",
    "# excluding the acceleration due to gravity\n",
    "# Triaxial acceleration from the accelerometer is total acceleration\n",
    "SIGNALS = [\n",
    "    \"body_acc_x\",\n",
    "    \"body_acc_y\",\n",
    "    \"body_acc_z\",\n",
    "    \"body_gyro_x\",\n",
    "    \"body_gyro_y\",\n",
    "    \"body_gyro_z\",\n",
    "    \"total_acc_x\",\n",
    "    \"total_acc_y\",\n",
    "    \"total_acc_z\"\n",
    "]\n",
    "\n",
    "# Utility function to read the data from csv file\n",
    "def _read_csv(filename):\n",
    "    return pd.read_csv(filename, delim_whitespace=True, header=None)\n",
    "\n",
    "# Utility function to load the load\n",
    "def load_signals(subset):\n",
    "    signals_data = []\n",
    "\n",
    "    for signal in SIGNALS:\n",
    "        filename = f'gdrive/My Drive/HAR/UCI_HAR_Dataset/{subset}/Inertial Signals/{signal}_{subset}.txt'\n",
    "        signals_data.append(\n",
    "            _read_csv(filename).as_matrix()\n",
    "        ) \n",
    "\n",
    "    # Transpose is used to change the dimensionality of the output,\n",
    "    # aggregating the signals by combination of sample/timestep.\n",
    "    # Resultant shape is (7352 train/2947 test samples, 128 timesteps, 9 signals)\n",
    "    return np.transpose(signals_data, (1, 2, 0))\n",
    "\n",
    "def load_y(subset):\n",
    "    \"\"\"\n",
    "    The objective that we are trying to predict is a integer, from 1 to 6,\n",
    "    that represents a human activity. We return a binary representation of \n",
    "    every sample objective as a 6 bits vector using One Hot Encoding\n",
    "    (https://pandas.pydata.org/pandas-docs/stable/generated/pandas.get_dummies.html)\n",
    "    \"\"\"\n",
    "    filename = f'gdrive/My Drive/HAR/UCI_HAR_Dataset/{subset}/y_{subset}.txt'\n",
    "    y = _read_csv(filename)[0]\n",
    "    y_subset = y <= 3 #taking y_class labels less than 3 \n",
    "    y = y[y_subset]\n",
    "    return pd.get_dummies(y).as_matrix(),y_subset\n",
    "\n",
    "def load_dynamic_data():\n",
    "    \"\"\"\n",
    "    Obtain the dataset from multiple files.\n",
    "    Returns: X_train, X_test, y_train, y_test\n",
    "    \"\"\"\n",
    "    X_train, X_test = load_signals('train'), load_signals('test')\n",
    "    y_train, y_train_sub  = load_y('train') \n",
    "    y_test,y_test_sub = load_y('test')\n",
    "    X_train = X_train[y_train_sub]\n",
    "    X_test = X_test[y_test_sub]\n",
    "\n",
    "    return X_train, X_test, y_train, y_test\n",
    "  \n",
    "# Loading the train and test data\n",
    "X_train_dynamic, X_test_dynamic, Y_train_dynamic, Y_test_dynamic = load_dynamic_data()"
   ]
  },
  {
   "cell_type": "code",
   "execution_count": 36,
   "metadata": {
    "colab": {
     "base_uri": "https://localhost:8080/",
     "height": 51
    },
    "colab_type": "code",
    "id": "icO1YtaI45yf",
    "outputId": "e6c41875-4be0-4b25-c3f7-dab7c6cada34"
   },
   "outputs": [
    {
     "name": "stdout",
     "output_type": "stream",
     "text": [
      "(3285, 128, 9) (3285, 3)\n",
      "(1387, 128, 9) (1387, 3)\n"
     ]
    }
   ],
   "source": [
    "print(X_train_dynamic.shape,Y_train_dynamic.shape)\n",
    "print(X_test_dynamic.shape,Y_test_dynamic.shape)"
   ]
  },
  {
   "cell_type": "code",
   "execution_count": 0,
   "metadata": {
    "colab": {
     "base_uri": "https://localhost:8080/",
     "height": 35
    },
    "colab_type": "code",
    "id": "7uoOxtmO1e2v",
    "outputId": "644d578e-ec63-4fb3-9565-8d264adfa280"
   },
   "outputs": [
    {
     "name": "stdout",
     "output_type": "stream",
     "text": [
      "Best: 0.954642 using {'kernel_size2': 7, 'kernel_size': 1, 'filters2': 32, 'filters': 32, 'dropout_rate2': 0.2, 'dropout_rate': 0.0}\n"
     ]
    }
   ],
   "source": [
    "import numpy\n",
    "from sklearn.model_selection import RandomizedSearchCV\n",
    "from sklearn.model_selection import GridSearchCV\n",
    "from keras.models import Sequential\n",
    "from keras.layers import Dense\n",
    "from keras.layers import Dropout\n",
    "import keras\n",
    "import keras.utils\n",
    "from keras import utils as np_utils\n",
    "from keras.wrappers.scikit_learn import KerasClassifier\n",
    "def create_model(filters=1,filters2=1,kernel_size2=1,kernel_size=1,dropout_rate2=0.0,dropout_rate=0.0):\n",
    "  model = Sequential()\n",
    "  model.add(keras.layers.Conv1D(filters=filters, kernel_size=kernel_size, activation='relu',kernel_initializer='he_uniform',input_shape=(timesteps, input_dim)))\n",
    "  model.add(BatchNormalization())\n",
    "  model.add(Dropout(dropout_rate))\n",
    "  model.add(keras.layers.Conv1D(filters=filters2, kernel_size=kernel_size2, activation='relu',kernel_initializer='he_uniform'))\n",
    "  model.add(BatchNormalization())\n",
    "  model.add(Dropout(dropout_rate2))\n",
    "  model.add(MaxPooling1D(pool_size=2))\n",
    "  model.add(Flatten())\n",
    "  model.add(Dense(3, activation='softmax'))\n",
    "  model.compile(loss='categorical_crossentropy', optimizer='Adam', metrics=['accuracy']) \n",
    "  return model\n",
    "\n",
    "# fix random seed for reproducibility\n",
    "seed = 7\n",
    "numpy.random.seed(seed)\n",
    "model = KerasClassifier(build_fn=create_model, epochs=30, batch_size=16, verbose=0)\n",
    "# define the grid search parameters\n",
    "filters = [1,32,64]\n",
    "filters2 = [1,32,64]\n",
    "kernel_size = [1,3,5,7]\n",
    "kernel_size2 = [1,3,5,7]\n",
    "dropout_rate = [0.0,0.2,0.4,0.6,0.8]\n",
    "dropout_rate2 = [0.0,0.2,0.4,0.6,0.8]\n",
    "param = dict(filters=filters,kernel_size=kernel_size,dropout_rate=dropout_rate,filters2=filters2,dropout_rate2=dropout_rate2,kernel_size2=kernel_size2)\n",
    "random = RandomizedSearchCV(estimator=model,param_distributions=param,cv=3)\n",
    "rand_result = random.fit(X_train_dynamic, Y_train_dynamic)\n",
    "# summarize results \n",
    "print(\"Best: %f using %s\" % (rand_result.best_score_, rand_result.best_params_))"
   ]
  },
  {
   "cell_type": "code",
   "execution_count": 37,
   "metadata": {
    "colab": {
     "base_uri": "https://localhost:8080/",
     "height": 459
    },
    "colab_type": "code",
    "id": "feN-RkWb456B",
    "outputId": "2590017f-d861-48e7-ec0b-f4b9d1b6aa8a"
   },
   "outputs": [
    {
     "name": "stdout",
     "output_type": "stream",
     "text": [
      "Model: \"sequential_4\"\n",
      "_________________________________________________________________\n",
      "Layer (type)                 Output Shape              Param #   \n",
      "=================================================================\n",
      "conv1d_8 (Conv1D)            (None, 128, 32)           320       \n",
      "_________________________________________________________________\n",
      "batch_normalization_7 (Batch (None, 128, 32)           128       \n",
      "_________________________________________________________________\n",
      "dropout_7 (Dropout)          (None, 128, 32)           0         \n",
      "_________________________________________________________________\n",
      "conv1d_9 (Conv1D)            (None, 122, 32)           7200      \n",
      "_________________________________________________________________\n",
      "batch_normalization_8 (Batch (None, 122, 32)           128       \n",
      "_________________________________________________________________\n",
      "dropout_8 (Dropout)          (None, 122, 32)           0         \n",
      "_________________________________________________________________\n",
      "max_pooling1d_4 (MaxPooling1 (None, 61, 32)            0         \n",
      "_________________________________________________________________\n",
      "flatten_4 (Flatten)          (None, 1952)              0         \n",
      "_________________________________________________________________\n",
      "dense_5 (Dense)              (None, 3)                 5859      \n",
      "=================================================================\n",
      "Total params: 13,635\n",
      "Trainable params: 13,507\n",
      "Non-trainable params: 128\n",
      "_________________________________________________________________\n"
     ]
    }
   ],
   "source": [
    "dynamic_model = Sequential()\n",
    "dynamic_model.add(Conv1D(filters=32, kernel_size=1, activation='relu',kernel_initializer='he_uniform',input_shape=(timesteps, input_dim)))\n",
    "dynamic_model.add(BatchNormalization()) \n",
    "dynamic_model.add(Dropout(0.0))\n",
    "dynamic_model.add(Conv1D(filters=32, kernel_size=7, activation='relu',kernel_initializer='he_uniform'))\n",
    "dynamic_model.add(BatchNormalization())\n",
    "dynamic_model.add(Dropout(0.2))\n",
    "dynamic_model.add(MaxPooling1D(pool_size=2))\n",
    "dynamic_model.add(Flatten())\n",
    "dynamic_model.add(Dense(3, activation='softmax'))\n",
    "dynamic_model.summary()"
   ]
  },
  {
   "cell_type": "code",
   "execution_count": 38,
   "metadata": {
    "colab": {
     "base_uri": "https://localhost:8080/",
     "height": 1000
    },
    "colab_type": "code",
    "id": "nACEkhW345_d",
    "outputId": "07e72ec2-597a-4a91-cbcc-ecaadedfa4fc"
   },
   "outputs": [
    {
     "name": "stdout",
     "output_type": "stream",
     "text": [
      "Train on 3285 samples, validate on 1387 samples\n",
      "Epoch 1/30\n",
      "3285/3285 [==============================] - 2s 722us/step - loss: 0.6781 - acc: 0.7367 - val_loss: 0.4249 - val_acc: 0.8717\n",
      "Epoch 2/30\n",
      "3285/3285 [==============================] - 1s 342us/step - loss: 0.1024 - acc: 0.9650 - val_loss: 0.2290 - val_acc: 0.9229\n",
      "Epoch 3/30\n",
      "3285/3285 [==============================] - 1s 347us/step - loss: 0.0371 - acc: 0.9924 - val_loss: 0.1777 - val_acc: 0.9430\n",
      "Epoch 4/30\n",
      "3285/3285 [==============================] - 1s 353us/step - loss: 0.0223 - acc: 0.9948 - val_loss: 0.1433 - val_acc: 0.9560\n",
      "Epoch 5/30\n",
      "3285/3285 [==============================] - 1s 344us/step - loss: 0.0124 - acc: 0.9973 - val_loss: 0.1282 - val_acc: 0.9589\n",
      "Epoch 6/30\n",
      "3285/3285 [==============================] - 1s 347us/step - loss: 0.0138 - acc: 0.9973 - val_loss: 0.1320 - val_acc: 0.9553\n",
      "Epoch 7/30\n",
      "3285/3285 [==============================] - 1s 342us/step - loss: 0.0061 - acc: 0.9991 - val_loss: 0.1366 - val_acc: 0.9618\n",
      "Epoch 8/30\n",
      "3285/3285 [==============================] - 1s 360us/step - loss: 0.0046 - acc: 1.0000 - val_loss: 0.1017 - val_acc: 0.9632\n",
      "Epoch 9/30\n",
      "3285/3285 [==============================] - 1s 365us/step - loss: 0.0044 - acc: 0.9997 - val_loss: 0.0724 - val_acc: 0.9726\n",
      "Epoch 10/30\n",
      "3285/3285 [==============================] - 1s 352us/step - loss: 0.0031 - acc: 0.9994 - val_loss: 0.0766 - val_acc: 0.9740\n",
      "Epoch 11/30\n",
      "3285/3285 [==============================] - 1s 341us/step - loss: 0.0071 - acc: 0.9979 - val_loss: 0.1750 - val_acc: 0.9394\n",
      "Epoch 12/30\n",
      "3285/3285 [==============================] - 1s 353us/step - loss: 0.0091 - acc: 0.9967 - val_loss: 0.1148 - val_acc: 0.9589\n",
      "Epoch 13/30\n",
      "3285/3285 [==============================] - 1s 346us/step - loss: 0.0023 - acc: 1.0000 - val_loss: 0.0986 - val_acc: 0.9683\n",
      "Epoch 14/30\n",
      "3285/3285 [==============================] - 1s 359us/step - loss: 0.0015 - acc: 0.9997 - val_loss: 0.0990 - val_acc: 0.9640\n",
      "Epoch 15/30\n",
      "3285/3285 [==============================] - 1s 366us/step - loss: 0.0011 - acc: 1.0000 - val_loss: 0.1133 - val_acc: 0.9618\n",
      "Epoch 16/30\n",
      "3285/3285 [==============================] - 1s 346us/step - loss: 0.0023 - acc: 0.9997 - val_loss: 0.0685 - val_acc: 0.9784\n",
      "Epoch 17/30\n",
      "3285/3285 [==============================] - 1s 351us/step - loss: 0.0019 - acc: 0.9997 - val_loss: 0.0845 - val_acc: 0.9704\n",
      "Epoch 18/30\n",
      "3285/3285 [==============================] - 1s 347us/step - loss: 6.9701e-04 - acc: 1.0000 - val_loss: 0.0715 - val_acc: 0.9755\n",
      "Epoch 19/30\n",
      "3285/3285 [==============================] - 1s 350us/step - loss: 6.2882e-04 - acc: 1.0000 - val_loss: 0.0593 - val_acc: 0.9784\n",
      "Epoch 20/30\n",
      "3285/3285 [==============================] - 1s 347us/step - loss: 8.1471e-04 - acc: 0.9997 - val_loss: 0.0672 - val_acc: 0.9748\n",
      "Epoch 21/30\n",
      "3285/3285 [==============================] - 1s 357us/step - loss: 6.5646e-04 - acc: 1.0000 - val_loss: 0.0700 - val_acc: 0.9719\n",
      "Epoch 22/30\n",
      "3285/3285 [==============================] - 1s 357us/step - loss: 4.3850e-04 - acc: 1.0000 - val_loss: 0.0651 - val_acc: 0.9740\n",
      "Epoch 23/30\n",
      "3285/3285 [==============================] - 1s 342us/step - loss: 0.0032 - acc: 0.9994 - val_loss: 0.1153 - val_acc: 0.9704\n",
      "Epoch 24/30\n",
      "3285/3285 [==============================] - 1s 391us/step - loss: 0.0052 - acc: 0.9982 - val_loss: 0.0806 - val_acc: 0.9697\n",
      "Epoch 25/30\n",
      "3285/3285 [==============================] - 1s 367us/step - loss: 0.0045 - acc: 0.9985 - val_loss: 0.1324 - val_acc: 0.9654\n",
      "Epoch 26/30\n",
      "3285/3285 [==============================] - 1s 363us/step - loss: 0.0099 - acc: 0.9967 - val_loss: 0.1710 - val_acc: 0.9632\n",
      "Epoch 27/30\n",
      "3285/3285 [==============================] - 1s 353us/step - loss: 0.0060 - acc: 0.9976 - val_loss: 0.0965 - val_acc: 0.9712\n",
      "Epoch 28/30\n",
      "3285/3285 [==============================] - 1s 353us/step - loss: 0.0011 - acc: 0.9997 - val_loss: 0.0491 - val_acc: 0.9827\n",
      "Epoch 29/30\n",
      "3285/3285 [==============================] - 1s 343us/step - loss: 4.6941e-04 - acc: 0.9997 - val_loss: 0.0625 - val_acc: 0.9798\n",
      "Epoch 30/30\n",
      "3285/3285 [==============================] - 1s 345us/step - loss: 1.9695e-04 - acc: 1.0000 - val_loss: 0.0615 - val_acc: 0.9820\n"
     ]
    },
    {
     "data": {
      "text/plain": [
       "<keras.callbacks.History at 0x7f7061785a90>"
      ]
     },
     "execution_count": 38,
     "metadata": {
      "tags": []
     },
     "output_type": "execute_result"
    }
   ],
   "source": [
    "dynamic_model.compile(loss='categorical_crossentropy', optimizer='Adam', metrics=['accuracy']) \n",
    "dynamic_model.fit(X_train_dynamic,Y_train_dynamic, epochs=30, batch_size=32,validation_data=(X_test_dynamic, Y_test_dynamic),verbose=1) "
   ]
  },
  {
   "cell_type": "code",
   "execution_count": 39,
   "metadata": {
    "colab": {
     "base_uri": "https://localhost:8080/",
     "height": 51
    },
    "colab_type": "code",
    "id": "m7xL0fTa5PW3",
    "outputId": "f5366c53-defa-4fe8-d36c-0f0838c24d1a"
   },
   "outputs": [
    {
     "name": "stdout",
     "output_type": "stream",
     "text": [
      "Test loss: 0.06151885367722327\n",
      "Test accuracy: 98.19754866618601\n"
     ]
    }
   ],
   "source": [
    "dynamic_model_score = dynamic_model.evaluate(X_test_dynamic,Y_test_dynamic,verbose=0)\n",
    "print('Test loss:', dynamic_model_score[0])\n",
    "print('Test accuracy:', dynamic_model_score[1]*100)"
   ]
  },
  {
   "cell_type": "code",
   "execution_count": 60,
   "metadata": {
    "colab": {
     "base_uri": "https://localhost:8080/",
     "height": 578
    },
    "colab_type": "code",
    "id": "pF0wvxUdfZzT",
    "outputId": "8ef252dd-df0d-4a99-80f0-bb76fa5dec30"
   },
   "outputs": [
    {
     "data": {
      "image/png": "[encoded data removed]",
      "text/plain": [
       "<Figure size 576x576 with 2 Axes>"
      ]
     },
     "metadata": {
      "tags": []
     },
     "output_type": "display_data"
    }
   ],
   "source": [
    "from sklearn.metrics import confusion_matrix\n",
    "predict_dynamic = dynamic_model.predict(X_test_dynamic)\n",
    "f_predict_dynamic = np.argmax(predict_dynamic,axis=1)\n",
    "cm = confusion_matrix(np.argmax(Y_test_dynamic,axis=1), f_predict_dynamic)\n",
    "plt.figure(figsize=(8,8))\n",
    "labels=['WALKING','WALKING_UPSTAIRS','WALKING_DOWNSTAIRS']\n",
    "plot_confusion_matrix(cm, classes=labels, \n",
    "                      normalize=True, title='Dynamic model confusion matrix', cmap = plt.cm.Blues)\n",
    "plt.show()"
   ]
  },
  {
   "cell_type": "markdown",
   "metadata": {
    "colab_type": "text",
    "id": "tTH1xHg_wytt"
   },
   "source": [
    "In above confusion matrix results states that  98% of class labels are correctly predicted  "
   ]
  },
  {
   "cell_type": "code",
   "execution_count": 0,
   "metadata": {
    "colab": {},
    "colab_type": "code",
    "id": "v74Q13KGDYsG"
   },
   "outputs": [],
   "source": [
    "dynamic_model.save('gdrive/My Drive/HAR/final_dynamic_model.m3')"
   ]
  },
  {
   "cell_type": "markdown",
   "metadata": {
    "colab_type": "text",
    "id": "bZlLgMkzYptO"
   },
   "source": [
    "<h3>Normal model</h3>"
   ]
  },
  {
   "cell_type": "code",
   "execution_count": 41,
   "metadata": {
    "colab": {
     "base_uri": "https://localhost:8080/",
     "height": 71
    },
    "colab_type": "code",
    "id": "0CxmRPYL5aE-",
    "outputId": "25461835-36a1-4f82-dc80-027e665bc51c"
   },
   "outputs": [
    {
     "name": "stderr",
     "output_type": "stream",
     "text": [
      "/usr/local/lib/python3.6/dist-packages/ipykernel_launcher.py:32: FutureWarning: Method .as_matrix will be removed in a future version. Use .values instead.\n",
      "/usr/local/lib/python3.6/dist-packages/ipykernel_launcher.py:49: FutureWarning: Method .as_matrix will be removed in a future version. Use .values instead.\n"
     ]
    }
   ],
   "source": [
    "# Data directory\n",
    "DATADIR = 'gdrive/My Drive/HAR/UCI_HAR_Dataset'\n",
    "\n",
    "# Raw data signals\n",
    "# Signals are from Accelerometer and Gyroscope\n",
    "# The signals are in x,y,z directions\n",
    "# Sensor signals are filtered to have only body acceleration\n",
    "# excluding the acceleration due to gravity\n",
    "# Triaxial acceleration from the accelerometer is total acceleration\n",
    "SIGNALS = [\n",
    "    \"body_acc_x\",\n",
    "    \"body_acc_y\",\n",
    "    \"body_acc_z\",\n",
    "    \"body_gyro_x\",\n",
    "    \"body_gyro_y\",\n",
    "    \"body_gyro_z\",\n",
    "    \"total_acc_x\",\n",
    "    \"total_acc_y\",\n",
    "    \"total_acc_z\"\n",
    "]\n",
    "\n",
    "# Utility function to read the data from csv file\n",
    "def _read_csv(filename):\n",
    "    return pd.read_csv(filename, delim_whitespace=True, header=None)\n",
    "\n",
    "# Utility function to load the load\n",
    "def load_signals(subset):\n",
    "    signals_data = []\n",
    "\n",
    "    for signal in SIGNALS:\n",
    "        filename = f'gdrive/My Drive/HAR/UCI_HAR_Dataset/{subset}/Inertial Signals/{signal}_{subset}.txt'\n",
    "        signals_data.append(\n",
    "            _read_csv(filename).as_matrix()\n",
    "        ) \n",
    "\n",
    "    # Transpose is used to change the dimensionality of the output,\n",
    "    # aggregating the signals by combination of sample/timestep.\n",
    "    # Resultant shape is (7352 train/2947 test samples, 128 timesteps, 9 signals)\n",
    "    return np.transpose(signals_data, (1, 2, 0))\n",
    "\n",
    "def load_y(subset):\n",
    "    \"\"\"\n",
    "    The objective that we are trying to predict is a integer, from 1 to 6,\n",
    "    that represents a human activity. We return a binary representation of \n",
    "    every sample objective as a 6 bits vector using One Hot Encoding\n",
    "    (https://pandas.pydata.org/pandas-docs/stable/generated/pandas.get_dummies.html)\n",
    "    \"\"\"\n",
    "    filename = f'gdrive/My Drive/HAR/UCI_HAR_Dataset/{subset}/y_{subset}.txt'\n",
    "    y = _read_csv(filename)[0]\n",
    "    return pd.get_dummies(y).as_matrix()\n",
    "\n",
    "def load_data():\n",
    "    \"\"\"\n",
    "    Obtain the dataset from multiple files.\n",
    "    Returns: X_train, X_test, y_train, y_test\n",
    "    \"\"\"\n",
    "    X_train, X_test = load_signals('train'), load_signals('test')\n",
    "    y_train,y_test = load_y('train'), load_y('test') \n",
    "\n",
    "    return X_train, X_test, y_train, y_test\n",
    "  \n",
    "# Loading the train and test data\n",
    "Q_X_train, Q_X_test, Q_Y_train, Q_Y_test = load_data()"
   ]
  },
  {
   "cell_type": "code",
   "execution_count": 0,
   "metadata": {
    "colab": {},
    "colab_type": "code",
    "id": "OetAfM1ry9mQ"
   },
   "outputs": [],
   "source": [
    "from keras.models import load_model\n",
    "b_model = load_model('gdrive/My Drive/HAR/final_binary_model.m1')\n",
    "s_model = load_model('gdrive/My Drive/HAR/final_static_model.m2')\n",
    "d_model = load_model('gdrive/My Drive/HAR/final_dynamic_model.m3')"
   ]
  },
  {
   "cell_type": "code",
   "execution_count": 0,
   "metadata": {
    "colab": {},
    "colab_type": "code",
    "id": "3yMFOqE-6YX6"
   },
   "outputs": [],
   "source": [
    "#predicting output activity\n",
    "def predict(X):\n",
    "    ##predicting whether dynamic or static\n",
    "    predict_binary = binary_model.predict(X)\n",
    "    f_predict_binary =  np.argmax(predict_binary, axis=1)\n",
    "    #static data filter\n",
    "    X_static = X[f_predict_binary==1]\n",
    "    #dynamic data filter\n",
    "    X_dynamic = X[f_predict_binary==0]\n",
    "    #predicting static activities\n",
    "    predict_static = static_model.predict(X_static)\n",
    "    f_predict_static = np.argmax(predict_static,axis=1)\n",
    "    #adding 3 because need to get inal prediction lable as output\n",
    "    f_predict_static = f_predict_static + 3 \n",
    "    #predicting dynamic activites\n",
    "    predict_dynamic = dynamic_model.predict(X_dynamic)\n",
    "    f_predict_dynamic = np.argmax(predict_dynamic,axis=1)\n",
    "    #adding 1 because need to get inal prediction lable as output\n",
    "    f_predict_dynamic = f_predict_dynamic \n",
    "    ##appending final output to one list in the same sequence of input data\n",
    "    i,j = 0,0 \n",
    "    final_predict = []\n",
    "    for q_p in f_predict_binary:\n",
    "        if q_p == 1:\n",
    "            final_predict.append(f_predict_static[i])\n",
    "            i = i + 1\n",
    "        else:\n",
    "            final_predict.append(f_predict_dynamic[j])\n",
    "            j = j + 1 \n",
    "    return final_predict"
   ]
  },
  {
   "cell_type": "code",
   "execution_count": 44,
   "metadata": {
    "colab": {
     "base_uri": "https://localhost:8080/",
     "height": 51
    },
    "colab_type": "code",
    "id": "WwRLX9zraO4s",
    "outputId": "31232aa6-5375-4459-aab7-e541b9c50e97"
   },
   "outputs": [
    {
     "name": "stdout",
     "output_type": "stream",
     "text": [
      "Accuracy of train data 0.9802774755168662\n",
      "Accuracy of validation data 0.9460468272819816\n"
     ]
    }
   ],
   "source": [
    "from sklearn.metrics import accuracy_score\n",
    "train_pred = predict(Q_X_train)\n",
    "test_pred = predict(Q_X_test)\n",
    "print('Accuracy of train data',accuracy_score(np.argmax(Q_Y_train,axis=1),train_pred))\n",
    "print('Accuracy of validation data',accuracy_score(np.argmax(Q_Y_test,axis=1),test_pred))"
   ]
  },
  {
   "cell_type": "code",
   "execution_count": 47,
   "metadata": {
    "colab": {
     "base_uri": "https://localhost:8080/",
     "height": 578
    },
    "colab_type": "code",
    "id": "bPmt3TOt-1cL",
    "outputId": "017df222-65b6-42da-f026-ccde97fd4c5e"
   },
   "outputs": [
    {
     "data": {
      "image/png": "[encoded data removed]",
      "text/plain": [
       "<Figure size 576x576 with 2 Axes>"
      ]
     },
     "metadata": {
      "tags": []
     },
     "output_type": "display_data"
    }
   ],
   "source": [
    "from sklearn.metrics import confusion_matrix\n",
    "cm = confusion_matrix(np.argmax(Q_Y_test,axis=1), test_pred)\n",
    "plt.figure(figsize=(8,8))\n",
    "labels=['WALKING','WALKING_UPSTAIRS','WALKING_DOWNSTAIRS','SITTING','STANDING','LAYING']\n",
    "plot_confusion_matrix(cm, classes=labels, \n",
    "                      normalize=True, title='Normalized confusion matrix', cmap = plt.cm.Reds)\n",
    "plt.show()"
   ]
  },
  {
   "cell_type": "code",
   "execution_count": 96,
   "metadata": {
    "colab": {
     "base_uri": "https://localhost:8080/",
     "height": 170
    },
    "colab_type": "code",
    "id": "leSZ7hLjziRL",
    "outputId": "5f18b6be-58c6-487a-ded9-c56bca6f8e07"
   },
   "outputs": [
    {
     "name": "stdout",
     "output_type": "stream",
     "text": [
      "+----------------------------+----------+\n",
      "|           Model            | Accuracy |\n",
      "+----------------------------+----------+\n",
      "|      LSTM BASE MODEL       |   91%    |\n",
      "|       LSTM 2 Layer         |   93%    |\n",
      "|       Static model         |   92%    |\n",
      "|       Dynamic model        |   98%    |\n",
      "| Binary + static + dynamic  |   94%    |\n",
      "+----------------------------+----------+\n"
     ]
    }
   ],
   "source": [
    "from prettytable import PrettyTable\n",
    "x = PrettyTable()\n",
    "x.field_names = [\"Model\", \"Accuracy\"]\n",
    "x.add_row([\"LSTM BASE MODEL \",  '91%'])\n",
    "x.add_row([\"LSTM 2 Layer \", '93%'])\n",
    "x.add_row([\"Static model \", '92%'])\n",
    "x.add_row([\"Dynamic model \", '98%'])\n",
    "x.add_row([\"Binary + static + dynamic \", '94%'])\n",
    "print(x)"
   ]
  },
  {
   "cell_type": "markdown",
   "metadata": {
    "colab_type": "text",
    "id": "RXjj9Dscimdh"
   },
   "source": [
    "<h3>Observations</h3>"
   ]
  },
  {
   "cell_type": "markdown",
   "metadata": {
    "colab_type": "text",
    "id": "3RpeLU1jirBQ"
   },
   "source": [
    "<ol>\n",
    "<li>In this dataset about Human activity Recoginition using smart phones data, Various LSTM and CNN deep learning techniques are applied </li>\n",
    "<li>We got the results by using LSTM we got 93% accuracy  </li>\n",
    "<li>By applying the new concept called Divide and conquer we dividede te data into two parts </li>\n",
    "<li>Applied first 3 class labels as one model and remaining 3 class labels as another model and predicted individually </li>\n",
    "<li>first 3 class label models called dynamic models and last 3 class labels called as static models </li>\n",
    "<li>Applied as 2 models and we got Static model as 92% accuracy and dynamic model as 98% accuracy </li>\n",
    "<li>In static model there is a lot of confusion between standing and sitting class labels because of that confusion it gives lower accuracy </li>\n",
    "<li>But in dynamic models it gives excellent classification it gaves 98% accuracy </li>\n",
    "<li>Overall by combing all these  6 labels we got 94% as final accuracy by using  concept called divde and conquer </li>\n",
    "\n",
    "\n",
    "\n",
    "\n",
    "\n",
    "\n",
    "</ol>"
   ]
  },
  {
   "cell_type": "code",
   "execution_count": 0,
   "metadata": {
    "colab": {},
    "colab_type": "code",
    "id": "5LtxraSC1Eaj"
   },
   "outputs": [],
   "source": []
  }
 ],
 "metadata": {
  "accelerator": "GPU",
  "colab": {
   "collapsed_sections": [],
   "name": "HAR_LSTM&DAQ.ipynb",
   "provenance": [],
   "toc_visible": true
  },
  "kernelspec": {
   "display_name": "Python 3",
   "language": "python",
   "name": "python3"
  },
  "language_info": {
   "codemirror_mode": {
    "name": "ipython",
    "version": 3
   },
   "file_extension": ".py",
   "mimetype": "text/x-python",
   "name": "python",
   "nbconvert_exporter": "python",
   "pygments_lexer": "ipython3",
   "version": "3.6.5"
  }
 },
 "nbformat": 4,
 "nbformat_minor": 1
}
